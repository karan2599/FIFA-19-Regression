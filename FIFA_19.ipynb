{
  "nbformat": 4,
  "nbformat_minor": 0,
  "metadata": {
    "colab": {
      "name": "FIFA_19.ipynb",
      "provenance": [],
      "authorship_tag": "ABX9TyMLMltM6JYUvIGj0FoeL8s7",
      "include_colab_link": true
    },
    "kernelspec": {
      "name": "python3",
      "display_name": "Python 3"
    }
  },
  "cells": [
    {
      "cell_type": "markdown",
      "metadata": {
        "id": "view-in-github",
        "colab_type": "text"
      },
      "source": [
        "<a href=\"https://colab.research.google.com/github/karan2599/FIFA-19-Regression/blob/main/FIFA_19.ipynb\" target=\"_parent\"><img src=\"https://colab.research.google.com/assets/colab-badge.svg\" alt=\"Open In Colab\"/></a>"
      ]
    },
    {
      "cell_type": "code",
      "metadata": {
        "id": "2cIWaLPxxFbW"
      },
      "source": [
        "import pandas as pd\n",
        "import numpy as np\n",
        "import matplotlib.pyplot as plt\n",
        "import seaborn as sn"
      ],
      "execution_count": null,
      "outputs": []
    },
    {
      "cell_type": "code",
      "metadata": {
        "colab": {
          "base_uri": "https://localhost:8080/"
        },
        "id": "SuiPNUE5xRMj",
        "outputId": "917ee75a-27eb-472c-efa2-8b90d4fdec29"
      },
      "source": [
        "from google.colab import drive\n",
        "drive.mount('/content/gdrive')"
      ],
      "execution_count": null,
      "outputs": [
        {
          "output_type": "stream",
          "text": [
            "Drive already mounted at /content/gdrive; to attempt to forcibly remount, call drive.mount(\"/content/gdrive\", force_remount=True).\n"
          ],
          "name": "stdout"
        }
      ]
    },
    {
      "cell_type": "code",
      "metadata": {
        "id": "Jk6-i7m9xeOT"
      },
      "source": [
        "FIFA_ds = pd.read_csv('/content/gdrive/MyDrive/Datasets/FIFA.csv')"
      ],
      "execution_count": null,
      "outputs": []
    },
    {
      "cell_type": "markdown",
      "metadata": {
        "id": "7_FmH3FCyU95"
      },
      "source": [
        "# 2.1 "
      ]
    },
    {
      "cell_type": "markdown",
      "metadata": {
        "id": "VwjtUPoR4BXQ"
      },
      "source": [
        "###a) Brief Exploration\n",
        "\n",
        "\n"
      ]
    },
    {
      "cell_type": "code",
      "metadata": {
        "id": "KtrKHYwqxtYZ",
        "colab": {
          "base_uri": "https://localhost:8080/"
        },
        "outputId": "a8ed0e05-7cc8-4a44-8f08-1bc2c1fe1fd8"
      },
      "source": [
        "print('Number of rows & columns: ', FIFA_ds.shape)"
      ],
      "execution_count": null,
      "outputs": [
        {
          "output_type": "stream",
          "text": [
            "Number of rows & columns:  (18207, 89)\n"
          ],
          "name": "stdout"
        }
      ]
    },
    {
      "cell_type": "code",
      "metadata": {
        "id": "5sKVDRaT5JNU",
        "colab": {
          "base_uri": "https://localhost:8080/"
        },
        "outputId": "d475d2d6-341d-499d-a2ce-9e0485a18924"
      },
      "source": [
        "FIFA_ds.drop_duplicates()\n",
        "print(\"Number of rows & columns after dropping duplicates: \", FIFA_ds.shape)"
      ],
      "execution_count": null,
      "outputs": [
        {
          "output_type": "stream",
          "text": [
            "Number of rows & columns after dropping duplicates:  (18207, 89)\n"
          ],
          "name": "stdout"
        }
      ]
    },
    {
      "cell_type": "markdown",
      "metadata": {
        "id": "fJTDAuN25NZj"
      },
      "source": [
        "Hence confirmed that there are no duplicate values"
      ]
    },
    {
      "cell_type": "code",
      "metadata": {
        "id": "1qJYp584T8-Y",
        "colab": {
          "base_uri": "https://localhost:8080/"
        },
        "outputId": "5fc583b9-822c-45d6-e453-bead90de5619"
      },
      "source": [
        "print('No. of Categorical Features: ', len(FIFA_ds.select_dtypes(include=object).columns))\n",
        "print('No. of Numerical Features: ', len(FIFA_ds.select_dtypes(exclude=object).columns))"
      ],
      "execution_count": null,
      "outputs": [
        {
          "output_type": "stream",
          "text": [
            "No. of Categorical Features:  45\n",
            "No. of Numerical Features:  44\n"
          ],
          "name": "stdout"
        }
      ]
    },
    {
      "cell_type": "code",
      "metadata": {
        "id": "mOXKM2R1yltC",
        "colab": {
          "base_uri": "https://localhost:8080/"
        },
        "outputId": "808b99f6-c8ac-45a4-eff6-ce7242a56e7e"
      },
      "source": [
        "FIFA_ds.info()"
      ],
      "execution_count": null,
      "outputs": [
        {
          "output_type": "stream",
          "text": [
            "<class 'pandas.core.frame.DataFrame'>\n",
            "RangeIndex: 18207 entries, 0 to 18206\n",
            "Data columns (total 89 columns):\n",
            " #   Column                    Non-Null Count  Dtype  \n",
            "---  ------                    --------------  -----  \n",
            " 0   Unnamed: 0                18207 non-null  int64  \n",
            " 1   ID                        18207 non-null  int64  \n",
            " 2   Name                      18207 non-null  object \n",
            " 3   Age                       18207 non-null  int64  \n",
            " 4   Photo                     18207 non-null  object \n",
            " 5   Nationality               18207 non-null  object \n",
            " 6   Flag                      18207 non-null  object \n",
            " 7   Overall                   18207 non-null  int64  \n",
            " 8   Potential                 18207 non-null  int64  \n",
            " 9   Club                      17966 non-null  object \n",
            " 10  Club Logo                 18207 non-null  object \n",
            " 11  Value                     18207 non-null  object \n",
            " 12  Wage                      18207 non-null  object \n",
            " 13  Special                   18207 non-null  int64  \n",
            " 14  Preferred Foot            18159 non-null  object \n",
            " 15  International Reputation  18159 non-null  float64\n",
            " 16  Weak Foot                 18159 non-null  float64\n",
            " 17  Skill Moves               18159 non-null  float64\n",
            " 18  Work Rate                 18159 non-null  object \n",
            " 19  Body Type                 18159 non-null  object \n",
            " 20  Real Face                 18159 non-null  object \n",
            " 21  Position                  18147 non-null  object \n",
            " 22  Jersey Number             18147 non-null  float64\n",
            " 23  Joined                    16654 non-null  object \n",
            " 24  Loaned From               1264 non-null   object \n",
            " 25  Contract Valid Until      17918 non-null  object \n",
            " 26  Height                    18159 non-null  object \n",
            " 27  Weight                    18159 non-null  object \n",
            " 28  LS                        16122 non-null  object \n",
            " 29  ST                        16122 non-null  object \n",
            " 30  RS                        16122 non-null  object \n",
            " 31  LW                        16122 non-null  object \n",
            " 32  LF                        16122 non-null  object \n",
            " 33  CF                        16122 non-null  object \n",
            " 34  RF                        16122 non-null  object \n",
            " 35  RW                        16122 non-null  object \n",
            " 36  LAM                       16122 non-null  object \n",
            " 37  CAM                       16122 non-null  object \n",
            " 38  RAM                       16122 non-null  object \n",
            " 39  LM                        16122 non-null  object \n",
            " 40  LCM                       16122 non-null  object \n",
            " 41  CM                        16122 non-null  object \n",
            " 42  RCM                       16122 non-null  object \n",
            " 43  RM                        16122 non-null  object \n",
            " 44  LWB                       16122 non-null  object \n",
            " 45  LDM                       16122 non-null  object \n",
            " 46  CDM                       16122 non-null  object \n",
            " 47  RDM                       16122 non-null  object \n",
            " 48  RWB                       16122 non-null  object \n",
            " 49  LB                        16122 non-null  object \n",
            " 50  LCB                       16122 non-null  object \n",
            " 51  CB                        16122 non-null  object \n",
            " 52  RCB                       16122 non-null  object \n",
            " 53  RB                        16122 non-null  object \n",
            " 54  Crossing                  18159 non-null  float64\n",
            " 55  Finishing                 18159 non-null  float64\n",
            " 56  HeadingAccuracy           18159 non-null  float64\n",
            " 57  ShortPassing              18159 non-null  float64\n",
            " 58  Volleys                   18159 non-null  float64\n",
            " 59  Dribbling                 18159 non-null  float64\n",
            " 60  Curve                     18159 non-null  float64\n",
            " 61  FKAccuracy                18159 non-null  float64\n",
            " 62  LongPassing               18159 non-null  float64\n",
            " 63  BallControl               18159 non-null  float64\n",
            " 64  Acceleration              18159 non-null  float64\n",
            " 65  SprintSpeed               18159 non-null  float64\n",
            " 66  Agility                   18159 non-null  float64\n",
            " 67  Reactions                 18159 non-null  float64\n",
            " 68  Balance                   18159 non-null  float64\n",
            " 69  ShotPower                 18159 non-null  float64\n",
            " 70  Jumping                   18159 non-null  float64\n",
            " 71  Stamina                   18159 non-null  float64\n",
            " 72  Strength                  18159 non-null  float64\n",
            " 73  LongShots                 18159 non-null  float64\n",
            " 74  Aggression                18159 non-null  float64\n",
            " 75  Interceptions             18159 non-null  float64\n",
            " 76  Positioning               18159 non-null  float64\n",
            " 77  Vision                    18159 non-null  float64\n",
            " 78  Penalties                 18159 non-null  float64\n",
            " 79  Composure                 18159 non-null  float64\n",
            " 80  Marking                   18159 non-null  float64\n",
            " 81  StandingTackle            18159 non-null  float64\n",
            " 82  SlidingTackle             18159 non-null  float64\n",
            " 83  GKDiving                  18159 non-null  float64\n",
            " 84  GKHandling                18159 non-null  float64\n",
            " 85  GKKicking                 18159 non-null  float64\n",
            " 86  GKPositioning             18159 non-null  float64\n",
            " 87  GKReflexes                18159 non-null  float64\n",
            " 88  Release Clause            16643 non-null  object \n",
            "dtypes: float64(38), int64(6), object(45)\n",
            "memory usage: 12.4+ MB\n"
          ],
          "name": "stdout"
        }
      ]
    },
    {
      "cell_type": "markdown",
      "metadata": {
        "id": "3EmiP1adqsvY"
      },
      "source": [
        "Above are the data types of all the features"
      ]
    },
    {
      "cell_type": "code",
      "metadata": {
        "id": "gmg6BxGg08Wu",
        "colab": {
          "base_uri": "https://localhost:8080/",
          "height": 334
        },
        "outputId": "ccaeb516-bd3c-4a35-aacb-77a4c3fcfb64"
      },
      "source": [
        "FIFA_ds.describe()"
      ],
      "execution_count": null,
      "outputs": [
        {
          "output_type": "execute_result",
          "data": {
            "text/html": [
              "<div>\n",
              "<style scoped>\n",
              "    .dataframe tbody tr th:only-of-type {\n",
              "        vertical-align: middle;\n",
              "    }\n",
              "\n",
              "    .dataframe tbody tr th {\n",
              "        vertical-align: top;\n",
              "    }\n",
              "\n",
              "    .dataframe thead th {\n",
              "        text-align: right;\n",
              "    }\n",
              "</style>\n",
              "<table border=\"1\" class=\"dataframe\">\n",
              "  <thead>\n",
              "    <tr style=\"text-align: right;\">\n",
              "      <th></th>\n",
              "      <th>Unnamed: 0</th>\n",
              "      <th>ID</th>\n",
              "      <th>Age</th>\n",
              "      <th>Overall</th>\n",
              "      <th>Potential</th>\n",
              "      <th>Special</th>\n",
              "      <th>International Reputation</th>\n",
              "      <th>Weak Foot</th>\n",
              "      <th>Skill Moves</th>\n",
              "      <th>Jersey Number</th>\n",
              "      <th>Crossing</th>\n",
              "      <th>Finishing</th>\n",
              "      <th>HeadingAccuracy</th>\n",
              "      <th>ShortPassing</th>\n",
              "      <th>Volleys</th>\n",
              "      <th>Dribbling</th>\n",
              "      <th>Curve</th>\n",
              "      <th>FKAccuracy</th>\n",
              "      <th>LongPassing</th>\n",
              "      <th>BallControl</th>\n",
              "      <th>Acceleration</th>\n",
              "      <th>SprintSpeed</th>\n",
              "      <th>Agility</th>\n",
              "      <th>Reactions</th>\n",
              "      <th>Balance</th>\n",
              "      <th>ShotPower</th>\n",
              "      <th>Jumping</th>\n",
              "      <th>Stamina</th>\n",
              "      <th>Strength</th>\n",
              "      <th>LongShots</th>\n",
              "      <th>Aggression</th>\n",
              "      <th>Interceptions</th>\n",
              "      <th>Positioning</th>\n",
              "      <th>Vision</th>\n",
              "      <th>Penalties</th>\n",
              "      <th>Composure</th>\n",
              "      <th>Marking</th>\n",
              "      <th>StandingTackle</th>\n",
              "      <th>SlidingTackle</th>\n",
              "      <th>GKDiving</th>\n",
              "      <th>GKHandling</th>\n",
              "      <th>GKKicking</th>\n",
              "      <th>GKPositioning</th>\n",
              "      <th>GKReflexes</th>\n",
              "    </tr>\n",
              "  </thead>\n",
              "  <tbody>\n",
              "    <tr>\n",
              "      <th>count</th>\n",
              "      <td>18207.000000</td>\n",
              "      <td>18207.000000</td>\n",
              "      <td>18207.000000</td>\n",
              "      <td>18207.000000</td>\n",
              "      <td>18207.000000</td>\n",
              "      <td>18207.000000</td>\n",
              "      <td>18159.000000</td>\n",
              "      <td>18159.000000</td>\n",
              "      <td>18159.000000</td>\n",
              "      <td>18147.000000</td>\n",
              "      <td>18159.000000</td>\n",
              "      <td>18159.000000</td>\n",
              "      <td>18159.000000</td>\n",
              "      <td>18159.000000</td>\n",
              "      <td>18159.000000</td>\n",
              "      <td>18159.000000</td>\n",
              "      <td>18159.000000</td>\n",
              "      <td>18159.000000</td>\n",
              "      <td>18159.000000</td>\n",
              "      <td>18159.000000</td>\n",
              "      <td>18159.000000</td>\n",
              "      <td>18159.000000</td>\n",
              "      <td>18159.000000</td>\n",
              "      <td>18159.000000</td>\n",
              "      <td>18159.000000</td>\n",
              "      <td>18159.000000</td>\n",
              "      <td>18159.000000</td>\n",
              "      <td>18159.000000</td>\n",
              "      <td>18159.000000</td>\n",
              "      <td>18159.000000</td>\n",
              "      <td>18159.000000</td>\n",
              "      <td>18159.000000</td>\n",
              "      <td>18159.000000</td>\n",
              "      <td>18159.000000</td>\n",
              "      <td>18159.000000</td>\n",
              "      <td>18159.000000</td>\n",
              "      <td>18159.000000</td>\n",
              "      <td>18159.000000</td>\n",
              "      <td>18159.000000</td>\n",
              "      <td>18159.000000</td>\n",
              "      <td>18159.000000</td>\n",
              "      <td>18159.000000</td>\n",
              "      <td>18159.000000</td>\n",
              "      <td>18159.000000</td>\n",
              "    </tr>\n",
              "    <tr>\n",
              "      <th>mean</th>\n",
              "      <td>9103.000000</td>\n",
              "      <td>214298.338606</td>\n",
              "      <td>25.122206</td>\n",
              "      <td>66.238699</td>\n",
              "      <td>71.307299</td>\n",
              "      <td>1597.809908</td>\n",
              "      <td>1.113222</td>\n",
              "      <td>2.947299</td>\n",
              "      <td>2.361308</td>\n",
              "      <td>19.546096</td>\n",
              "      <td>49.734181</td>\n",
              "      <td>45.550911</td>\n",
              "      <td>52.298144</td>\n",
              "      <td>58.686712</td>\n",
              "      <td>42.909026</td>\n",
              "      <td>55.371001</td>\n",
              "      <td>47.170824</td>\n",
              "      <td>42.863153</td>\n",
              "      <td>52.711933</td>\n",
              "      <td>58.369459</td>\n",
              "      <td>64.614076</td>\n",
              "      <td>64.726967</td>\n",
              "      <td>63.503607</td>\n",
              "      <td>61.836610</td>\n",
              "      <td>63.966573</td>\n",
              "      <td>55.460047</td>\n",
              "      <td>65.089432</td>\n",
              "      <td>63.219946</td>\n",
              "      <td>65.311967</td>\n",
              "      <td>47.109973</td>\n",
              "      <td>55.868991</td>\n",
              "      <td>46.698276</td>\n",
              "      <td>49.958478</td>\n",
              "      <td>53.400903</td>\n",
              "      <td>48.548598</td>\n",
              "      <td>58.648274</td>\n",
              "      <td>47.281623</td>\n",
              "      <td>47.697836</td>\n",
              "      <td>45.661435</td>\n",
              "      <td>16.616223</td>\n",
              "      <td>16.391596</td>\n",
              "      <td>16.232061</td>\n",
              "      <td>16.388898</td>\n",
              "      <td>16.710887</td>\n",
              "    </tr>\n",
              "    <tr>\n",
              "      <th>std</th>\n",
              "      <td>5256.052511</td>\n",
              "      <td>29965.244204</td>\n",
              "      <td>4.669943</td>\n",
              "      <td>6.908930</td>\n",
              "      <td>6.136496</td>\n",
              "      <td>272.586016</td>\n",
              "      <td>0.394031</td>\n",
              "      <td>0.660456</td>\n",
              "      <td>0.756164</td>\n",
              "      <td>15.947765</td>\n",
              "      <td>18.364524</td>\n",
              "      <td>19.525820</td>\n",
              "      <td>17.379909</td>\n",
              "      <td>14.699495</td>\n",
              "      <td>17.694408</td>\n",
              "      <td>18.910371</td>\n",
              "      <td>18.395264</td>\n",
              "      <td>17.478763</td>\n",
              "      <td>15.327870</td>\n",
              "      <td>16.686595</td>\n",
              "      <td>14.927780</td>\n",
              "      <td>14.649953</td>\n",
              "      <td>14.766049</td>\n",
              "      <td>9.010464</td>\n",
              "      <td>14.136166</td>\n",
              "      <td>17.237958</td>\n",
              "      <td>11.820044</td>\n",
              "      <td>15.894741</td>\n",
              "      <td>12.557000</td>\n",
              "      <td>19.260524</td>\n",
              "      <td>17.367967</td>\n",
              "      <td>20.696909</td>\n",
              "      <td>19.529036</td>\n",
              "      <td>14.146881</td>\n",
              "      <td>15.704053</td>\n",
              "      <td>11.436133</td>\n",
              "      <td>19.904397</td>\n",
              "      <td>21.664004</td>\n",
              "      <td>21.289135</td>\n",
              "      <td>17.695349</td>\n",
              "      <td>16.906900</td>\n",
              "      <td>16.502864</td>\n",
              "      <td>17.034669</td>\n",
              "      <td>17.955119</td>\n",
              "    </tr>\n",
              "    <tr>\n",
              "      <th>min</th>\n",
              "      <td>0.000000</td>\n",
              "      <td>16.000000</td>\n",
              "      <td>16.000000</td>\n",
              "      <td>46.000000</td>\n",
              "      <td>48.000000</td>\n",
              "      <td>731.000000</td>\n",
              "      <td>1.000000</td>\n",
              "      <td>1.000000</td>\n",
              "      <td>1.000000</td>\n",
              "      <td>1.000000</td>\n",
              "      <td>5.000000</td>\n",
              "      <td>2.000000</td>\n",
              "      <td>4.000000</td>\n",
              "      <td>7.000000</td>\n",
              "      <td>4.000000</td>\n",
              "      <td>4.000000</td>\n",
              "      <td>6.000000</td>\n",
              "      <td>3.000000</td>\n",
              "      <td>9.000000</td>\n",
              "      <td>5.000000</td>\n",
              "      <td>12.000000</td>\n",
              "      <td>12.000000</td>\n",
              "      <td>14.000000</td>\n",
              "      <td>21.000000</td>\n",
              "      <td>16.000000</td>\n",
              "      <td>2.000000</td>\n",
              "      <td>15.000000</td>\n",
              "      <td>12.000000</td>\n",
              "      <td>17.000000</td>\n",
              "      <td>3.000000</td>\n",
              "      <td>11.000000</td>\n",
              "      <td>3.000000</td>\n",
              "      <td>2.000000</td>\n",
              "      <td>10.000000</td>\n",
              "      <td>5.000000</td>\n",
              "      <td>3.000000</td>\n",
              "      <td>3.000000</td>\n",
              "      <td>2.000000</td>\n",
              "      <td>3.000000</td>\n",
              "      <td>1.000000</td>\n",
              "      <td>1.000000</td>\n",
              "      <td>1.000000</td>\n",
              "      <td>1.000000</td>\n",
              "      <td>1.000000</td>\n",
              "    </tr>\n",
              "    <tr>\n",
              "      <th>25%</th>\n",
              "      <td>4551.500000</td>\n",
              "      <td>200315.500000</td>\n",
              "      <td>21.000000</td>\n",
              "      <td>62.000000</td>\n",
              "      <td>67.000000</td>\n",
              "      <td>1457.000000</td>\n",
              "      <td>1.000000</td>\n",
              "      <td>3.000000</td>\n",
              "      <td>2.000000</td>\n",
              "      <td>8.000000</td>\n",
              "      <td>38.000000</td>\n",
              "      <td>30.000000</td>\n",
              "      <td>44.000000</td>\n",
              "      <td>54.000000</td>\n",
              "      <td>30.000000</td>\n",
              "      <td>49.000000</td>\n",
              "      <td>34.000000</td>\n",
              "      <td>31.000000</td>\n",
              "      <td>43.000000</td>\n",
              "      <td>54.000000</td>\n",
              "      <td>57.000000</td>\n",
              "      <td>57.000000</td>\n",
              "      <td>55.000000</td>\n",
              "      <td>56.000000</td>\n",
              "      <td>56.000000</td>\n",
              "      <td>45.000000</td>\n",
              "      <td>58.000000</td>\n",
              "      <td>56.000000</td>\n",
              "      <td>58.000000</td>\n",
              "      <td>33.000000</td>\n",
              "      <td>44.000000</td>\n",
              "      <td>26.000000</td>\n",
              "      <td>38.000000</td>\n",
              "      <td>44.000000</td>\n",
              "      <td>39.000000</td>\n",
              "      <td>51.000000</td>\n",
              "      <td>30.000000</td>\n",
              "      <td>27.000000</td>\n",
              "      <td>24.000000</td>\n",
              "      <td>8.000000</td>\n",
              "      <td>8.000000</td>\n",
              "      <td>8.000000</td>\n",
              "      <td>8.000000</td>\n",
              "      <td>8.000000</td>\n",
              "    </tr>\n",
              "    <tr>\n",
              "      <th>50%</th>\n",
              "      <td>9103.000000</td>\n",
              "      <td>221759.000000</td>\n",
              "      <td>25.000000</td>\n",
              "      <td>66.000000</td>\n",
              "      <td>71.000000</td>\n",
              "      <td>1635.000000</td>\n",
              "      <td>1.000000</td>\n",
              "      <td>3.000000</td>\n",
              "      <td>2.000000</td>\n",
              "      <td>17.000000</td>\n",
              "      <td>54.000000</td>\n",
              "      <td>49.000000</td>\n",
              "      <td>56.000000</td>\n",
              "      <td>62.000000</td>\n",
              "      <td>44.000000</td>\n",
              "      <td>61.000000</td>\n",
              "      <td>48.000000</td>\n",
              "      <td>41.000000</td>\n",
              "      <td>56.000000</td>\n",
              "      <td>63.000000</td>\n",
              "      <td>67.000000</td>\n",
              "      <td>67.000000</td>\n",
              "      <td>66.000000</td>\n",
              "      <td>62.000000</td>\n",
              "      <td>66.000000</td>\n",
              "      <td>59.000000</td>\n",
              "      <td>66.000000</td>\n",
              "      <td>66.000000</td>\n",
              "      <td>67.000000</td>\n",
              "      <td>51.000000</td>\n",
              "      <td>59.000000</td>\n",
              "      <td>52.000000</td>\n",
              "      <td>55.000000</td>\n",
              "      <td>55.000000</td>\n",
              "      <td>49.000000</td>\n",
              "      <td>60.000000</td>\n",
              "      <td>53.000000</td>\n",
              "      <td>55.000000</td>\n",
              "      <td>52.000000</td>\n",
              "      <td>11.000000</td>\n",
              "      <td>11.000000</td>\n",
              "      <td>11.000000</td>\n",
              "      <td>11.000000</td>\n",
              "      <td>11.000000</td>\n",
              "    </tr>\n",
              "    <tr>\n",
              "      <th>75%</th>\n",
              "      <td>13654.500000</td>\n",
              "      <td>236529.500000</td>\n",
              "      <td>28.000000</td>\n",
              "      <td>71.000000</td>\n",
              "      <td>75.000000</td>\n",
              "      <td>1787.000000</td>\n",
              "      <td>1.000000</td>\n",
              "      <td>3.000000</td>\n",
              "      <td>3.000000</td>\n",
              "      <td>26.000000</td>\n",
              "      <td>64.000000</td>\n",
              "      <td>62.000000</td>\n",
              "      <td>64.000000</td>\n",
              "      <td>68.000000</td>\n",
              "      <td>57.000000</td>\n",
              "      <td>68.000000</td>\n",
              "      <td>62.000000</td>\n",
              "      <td>57.000000</td>\n",
              "      <td>64.000000</td>\n",
              "      <td>69.000000</td>\n",
              "      <td>75.000000</td>\n",
              "      <td>75.000000</td>\n",
              "      <td>74.000000</td>\n",
              "      <td>68.000000</td>\n",
              "      <td>74.000000</td>\n",
              "      <td>68.000000</td>\n",
              "      <td>73.000000</td>\n",
              "      <td>74.000000</td>\n",
              "      <td>74.000000</td>\n",
              "      <td>62.000000</td>\n",
              "      <td>69.000000</td>\n",
              "      <td>64.000000</td>\n",
              "      <td>64.000000</td>\n",
              "      <td>64.000000</td>\n",
              "      <td>60.000000</td>\n",
              "      <td>67.000000</td>\n",
              "      <td>64.000000</td>\n",
              "      <td>66.000000</td>\n",
              "      <td>64.000000</td>\n",
              "      <td>14.000000</td>\n",
              "      <td>14.000000</td>\n",
              "      <td>14.000000</td>\n",
              "      <td>14.000000</td>\n",
              "      <td>14.000000</td>\n",
              "    </tr>\n",
              "    <tr>\n",
              "      <th>max</th>\n",
              "      <td>18206.000000</td>\n",
              "      <td>246620.000000</td>\n",
              "      <td>45.000000</td>\n",
              "      <td>94.000000</td>\n",
              "      <td>95.000000</td>\n",
              "      <td>2346.000000</td>\n",
              "      <td>5.000000</td>\n",
              "      <td>5.000000</td>\n",
              "      <td>5.000000</td>\n",
              "      <td>99.000000</td>\n",
              "      <td>93.000000</td>\n",
              "      <td>95.000000</td>\n",
              "      <td>94.000000</td>\n",
              "      <td>93.000000</td>\n",
              "      <td>90.000000</td>\n",
              "      <td>97.000000</td>\n",
              "      <td>94.000000</td>\n",
              "      <td>94.000000</td>\n",
              "      <td>93.000000</td>\n",
              "      <td>96.000000</td>\n",
              "      <td>97.000000</td>\n",
              "      <td>96.000000</td>\n",
              "      <td>96.000000</td>\n",
              "      <td>96.000000</td>\n",
              "      <td>96.000000</td>\n",
              "      <td>95.000000</td>\n",
              "      <td>95.000000</td>\n",
              "      <td>96.000000</td>\n",
              "      <td>97.000000</td>\n",
              "      <td>94.000000</td>\n",
              "      <td>95.000000</td>\n",
              "      <td>92.000000</td>\n",
              "      <td>95.000000</td>\n",
              "      <td>94.000000</td>\n",
              "      <td>92.000000</td>\n",
              "      <td>96.000000</td>\n",
              "      <td>94.000000</td>\n",
              "      <td>93.000000</td>\n",
              "      <td>91.000000</td>\n",
              "      <td>90.000000</td>\n",
              "      <td>92.000000</td>\n",
              "      <td>91.000000</td>\n",
              "      <td>90.000000</td>\n",
              "      <td>94.000000</td>\n",
              "    </tr>\n",
              "  </tbody>\n",
              "</table>\n",
              "</div>"
            ],
            "text/plain": [
              "         Unnamed: 0             ID  ...  GKPositioning    GKReflexes\n",
              "count  18207.000000   18207.000000  ...   18159.000000  18159.000000\n",
              "mean    9103.000000  214298.338606  ...      16.388898     16.710887\n",
              "std     5256.052511   29965.244204  ...      17.034669     17.955119\n",
              "min        0.000000      16.000000  ...       1.000000      1.000000\n",
              "25%     4551.500000  200315.500000  ...       8.000000      8.000000\n",
              "50%     9103.000000  221759.000000  ...      11.000000     11.000000\n",
              "75%    13654.500000  236529.500000  ...      14.000000     14.000000\n",
              "max    18206.000000  246620.000000  ...      90.000000     94.000000\n",
              "\n",
              "[8 rows x 44 columns]"
            ]
          },
          "metadata": {
            "tags": []
          },
          "execution_count": 11
        }
      ]
    },
    {
      "cell_type": "code",
      "metadata": {
        "id": "ROUjvwbm4a04",
        "colab": {
          "base_uri": "https://localhost:8080/",
          "height": 1000
        },
        "outputId": "6f603eba-0b74-4caf-abff-8f17be6dbe8d"
      },
      "source": [
        "FIFA_ds.hist(figsize=(50,35))"
      ],
      "execution_count": null,
      "outputs": [
        {
          "output_type": "execute_result",
          "data": {
            "text/plain": [
              "array([[<matplotlib.axes._subplots.AxesSubplot object at 0x7ffba1c1a590>,\n",
              "        <matplotlib.axes._subplots.AxesSubplot object at 0x7ffba1bdfb50>,\n",
              "        <matplotlib.axes._subplots.AxesSubplot object at 0x7ffba1ba5210>,\n",
              "        <matplotlib.axes._subplots.AxesSubplot object at 0x7ffba1b5b890>,\n",
              "        <matplotlib.axes._subplots.AxesSubplot object at 0x7ffba1b1c0d0>,\n",
              "        <matplotlib.axes._subplots.AxesSubplot object at 0x7ffba1ad5ad0>,\n",
              "        <matplotlib.axes._subplots.AxesSubplot object at 0x7ffba1a8be90>],\n",
              "       [<matplotlib.axes._subplots.AxesSubplot object at 0x7ffba1a4b490>,\n",
              "        <matplotlib.axes._subplots.AxesSubplot object at 0x7ffba1a4b4d0>,\n",
              "        <matplotlib.axes._subplots.AxesSubplot object at 0x7ffba1a81c50>,\n",
              "        <matplotlib.axes._subplots.AxesSubplot object at 0x7ffba19f98d0>,\n",
              "        <matplotlib.axes._subplots.AxesSubplot object at 0x7ffba19aff50>,\n",
              "        <matplotlib.axes._subplots.AxesSubplot object at 0x7ffba1971610>,\n",
              "        <matplotlib.axes._subplots.AxesSubplot object at 0x7ffba1924c90>],\n",
              "       [<matplotlib.axes._subplots.AxesSubplot object at 0x7ffba18e7350>,\n",
              "        <matplotlib.axes._subplots.AxesSubplot object at 0x7ffba189c9d0>,\n",
              "        <matplotlib.axes._subplots.AxesSubplot object at 0x7ffba1849b90>,\n",
              "        <matplotlib.axes._subplots.AxesSubplot object at 0x7ffba1814710>,\n",
              "        <matplotlib.axes._subplots.AxesSubplot object at 0x7ffba17c8d90>,\n",
              "        <matplotlib.axes._subplots.AxesSubplot object at 0x7ffba213f1d0>,\n",
              "        <matplotlib.axes._subplots.AxesSubplot object at 0x7ffba1a58710>],\n",
              "       [<matplotlib.axes._subplots.AxesSubplot object at 0x7ffba18e7690>,\n",
              "        <matplotlib.axes._subplots.AxesSubplot object at 0x7ffba1727350>,\n",
              "        <matplotlib.axes._subplots.AxesSubplot object at 0x7ffba16db9d0>,\n",
              "        <matplotlib.axes._subplots.AxesSubplot object at 0x7ffba1707b90>,\n",
              "        <matplotlib.axes._subplots.AxesSubplot object at 0x7ffba1652710>,\n",
              "        <matplotlib.axes._subplots.AxesSubplot object at 0x7ffba1608d90>,\n",
              "        <matplotlib.axes._subplots.AxesSubplot object at 0x7ffba15cb450>],\n",
              "       [<matplotlib.axes._subplots.AxesSubplot object at 0x7ffba1602ad0>,\n",
              "        <matplotlib.axes._subplots.AxesSubplot object at 0x7ffba15c4190>,\n",
              "        <matplotlib.axes._subplots.AxesSubplot object at 0x7ffba1579810>,\n",
              "        <matplotlib.axes._subplots.AxesSubplot object at 0x7ffba152de90>,\n",
              "        <matplotlib.axes._subplots.AxesSubplot object at 0x7ffba14ee550>,\n",
              "        <matplotlib.axes._subplots.AxesSubplot object at 0x7ffba14a3bd0>,\n",
              "        <matplotlib.axes._subplots.AxesSubplot object at 0x7ffba1468290>],\n",
              "       [<matplotlib.axes._subplots.AxesSubplot object at 0x7ffba141c910>,\n",
              "        <matplotlib.axes._subplots.AxesSubplot object at 0x7ffba13d3f90>,\n",
              "        <matplotlib.axes._subplots.AxesSubplot object at 0x7ffba1394650>,\n",
              "        <matplotlib.axes._subplots.AxesSubplot object at 0x7ffba1348cd0>,\n",
              "        <matplotlib.axes._subplots.AxesSubplot object at 0x7ffba130b390>,\n",
              "        <matplotlib.axes._subplots.AxesSubplot object at 0x7ffba133ea10>,\n",
              "        <matplotlib.axes._subplots.AxesSubplot object at 0x7ffba13020d0>],\n",
              "       [<matplotlib.axes._subplots.AxesSubplot object at 0x7ffba12ba750>,\n",
              "        <matplotlib.axes._subplots.AxesSubplot object at 0x7ffba126edd0>,\n",
              "        <matplotlib.axes._subplots.AxesSubplot object at 0x7ffba122f490>,\n",
              "        <matplotlib.axes._subplots.AxesSubplot object at 0x7ffba11e5b10>,\n",
              "        <matplotlib.axes._subplots.AxesSubplot object at 0x7ffba11a51d0>,\n",
              "        <matplotlib.axes._subplots.AxesSubplot object at 0x7ffba115c850>,\n",
              "        <matplotlib.axes._subplots.AxesSubplot object at 0x7ffba1113ed0>]],\n",
              "      dtype=object)"
            ]
          },
          "metadata": {
            "tags": []
          },
          "execution_count": 12
        },
        {
          "output_type": "display_data",
          "data": {
            "image/png": "[encoded data removed]",
            "text/plain": [
              "<Figure size 3600x2520 with 49 Axes>"
            ]
          },
          "metadata": {
            "tags": [],
            "needs_background": "light"
          }
        }
      ]
    },
    {
      "cell_type": "markdown",
      "metadata": {
        "id": "rBYxRU6D4o-3"
      },
      "source": [
        "Above are the histograms of our features."
      ]
    },
    {
      "cell_type": "markdown",
      "metadata": {
        "id": "9XEJdeH94vqP"
      },
      "source": [
        "###b) Preprocessing\n",
        "\n"
      ]
    },
    {
      "cell_type": "code",
      "metadata": {
        "id": "GNBjVpkI17lg",
        "colab": {
          "base_uri": "https://localhost:8080/"
        },
        "outputId": "2e2bf67a-58a2-4ca4-e216-ac4854ddc29a"
      },
      "source": [
        "FIFA_ds.isnull().values.any()"
      ],
      "execution_count": null,
      "outputs": [
        {
          "output_type": "execute_result",
          "data": {
            "text/plain": [
              "True"
            ]
          },
          "metadata": {
            "tags": []
          },
          "execution_count": 13
        }
      ]
    },
    {
      "cell_type": "markdown",
      "metadata": {
        "id": "7TrXCCMoqzFi"
      },
      "source": [
        "Hence, confirmed that our dataset does have missing values"
      ]
    },
    {
      "cell_type": "code",
      "metadata": {
        "id": "Ee0lY2wi1-Pp",
        "colab": {
          "base_uri": "https://localhost:8080/"
        },
        "outputId": "6a4edaef-66ce-48c6-f9c4-56b0fbf12145"
      },
      "source": [
        "FIFA_ds.isnull().sum()"
      ],
      "execution_count": null,
      "outputs": [
        {
          "output_type": "execute_result",
          "data": {
            "text/plain": [
              "Unnamed: 0           0\n",
              "ID                   0\n",
              "Name                 0\n",
              "Age                  0\n",
              "Photo                0\n",
              "                  ... \n",
              "GKHandling          48\n",
              "GKKicking           48\n",
              "GKPositioning       48\n",
              "GKReflexes          48\n",
              "Release Clause    1564\n",
              "Length: 89, dtype: int64"
            ]
          },
          "metadata": {
            "tags": []
          },
          "execution_count": 14
        }
      ]
    },
    {
      "cell_type": "code",
      "metadata": {
        "id": "otQ7kD-h2PW1",
        "colab": {
          "base_uri": "https://localhost:8080/"
        },
        "outputId": "50c112a1-08b6-4544-9d56-f839c6f32324"
      },
      "source": [
        "FIFA_ds.isnull().sum().sum()"
      ],
      "execution_count": null,
      "outputs": [
        {
          "output_type": "execute_result",
          "data": {
            "text/plain": [
              "76984"
            ]
          },
          "metadata": {
            "tags": []
          },
          "execution_count": 15
        }
      ]
    },
    {
      "cell_type": "markdown",
      "metadata": {
        "id": "4UfrIt8B2WUT"
      },
      "source": [
        "As we can, there are 76984 missing values which are a lot. We will now focus on replacing/dropping these missing values"
      ]
    },
    {
      "cell_type": "markdown",
      "metadata": {
        "id": "TmjRfDOU5Eov"
      },
      "source": [
        "###c) Feature Extraction\n",
        "\n"
      ]
    },
    {
      "cell_type": "code",
      "metadata": {
        "id": "ir9pWmFUSbpF"
      },
      "source": [
        "valid_columns = ['Age','Overall', 'Potential', 'Wage','International Reputation','Weak Foot','Skill Moves','Height','Weight', 'Crossing', 'Finishing', 'HeadingAccuracy', 'ShortPassing', 'Volleys', 'Dribbling', 'Curve', 'FKAccuracy', \n",
        "'LongPassing', 'BallControl', 'Acceleration', 'SprintSpeed', 'Agility', 'Reactions', 'Balance', 'ShotPower', 'Jumping', 'Stamina', 'Strength', 'LongShots',\n",
        "'Aggression','Interceptions', 'Positioning', 'Vision', 'Penalties', 'Composure', 'Marking', 'StandingTackle', 'SlidingTackle', 'Value','Release Clause']"
      ],
      "execution_count": null,
      "outputs": []
    },
    {
      "cell_type": "markdown",
      "metadata": {
        "id": "S9vB7FxgsJed"
      },
      "source": [
        "I chose the above features that I will be using for my regression models. I mainly chose these features due to their numeric attributes"
      ]
    },
    {
      "cell_type": "code",
      "metadata": {
        "id": "MjOU7wxXXW2C",
        "colab": {
          "base_uri": "https://localhost:8080/",
          "height": 456
        },
        "outputId": "371b301e-69d3-41aa-a081-43c0b21b0f8c"
      },
      "source": [
        "FIFA_ds[valid_columns]"
      ],
      "execution_count": null,
      "outputs": [
        {
          "output_type": "execute_result",
          "data": {
            "text/html": [
              "<div>\n",
              "<style scoped>\n",
              "    .dataframe tbody tr th:only-of-type {\n",
              "        vertical-align: middle;\n",
              "    }\n",
              "\n",
              "    .dataframe tbody tr th {\n",
              "        vertical-align: top;\n",
              "    }\n",
              "\n",
              "    .dataframe thead th {\n",
              "        text-align: right;\n",
              "    }\n",
              "</style>\n",
              "<table border=\"1\" class=\"dataframe\">\n",
              "  <thead>\n",
              "    <tr style=\"text-align: right;\">\n",
              "      <th></th>\n",
              "      <th>Age</th>\n",
              "      <th>Overall</th>\n",
              "      <th>Potential</th>\n",
              "      <th>Wage</th>\n",
              "      <th>International Reputation</th>\n",
              "      <th>Weak Foot</th>\n",
              "      <th>Skill Moves</th>\n",
              "      <th>Height</th>\n",
              "      <th>Weight</th>\n",
              "      <th>Crossing</th>\n",
              "      <th>Finishing</th>\n",
              "      <th>HeadingAccuracy</th>\n",
              "      <th>ShortPassing</th>\n",
              "      <th>Volleys</th>\n",
              "      <th>Dribbling</th>\n",
              "      <th>Curve</th>\n",
              "      <th>FKAccuracy</th>\n",
              "      <th>LongPassing</th>\n",
              "      <th>BallControl</th>\n",
              "      <th>Acceleration</th>\n",
              "      <th>SprintSpeed</th>\n",
              "      <th>Agility</th>\n",
              "      <th>Reactions</th>\n",
              "      <th>Balance</th>\n",
              "      <th>ShotPower</th>\n",
              "      <th>Jumping</th>\n",
              "      <th>Stamina</th>\n",
              "      <th>Strength</th>\n",
              "      <th>LongShots</th>\n",
              "      <th>Aggression</th>\n",
              "      <th>Interceptions</th>\n",
              "      <th>Positioning</th>\n",
              "      <th>Vision</th>\n",
              "      <th>Penalties</th>\n",
              "      <th>Composure</th>\n",
              "      <th>Marking</th>\n",
              "      <th>StandingTackle</th>\n",
              "      <th>SlidingTackle</th>\n",
              "      <th>Value</th>\n",
              "      <th>Release Clause</th>\n",
              "    </tr>\n",
              "  </thead>\n",
              "  <tbody>\n",
              "    <tr>\n",
              "      <th>0</th>\n",
              "      <td>31</td>\n",
              "      <td>94</td>\n",
              "      <td>94</td>\n",
              "      <td>€565K</td>\n",
              "      <td>5.0</td>\n",
              "      <td>4.0</td>\n",
              "      <td>4.0</td>\n",
              "      <td>5'7</td>\n",
              "      <td>159lbs</td>\n",
              "      <td>84.0</td>\n",
              "      <td>95.0</td>\n",
              "      <td>70.0</td>\n",
              "      <td>90.0</td>\n",
              "      <td>86.0</td>\n",
              "      <td>97.0</td>\n",
              "      <td>93.0</td>\n",
              "      <td>94.0</td>\n",
              "      <td>87.0</td>\n",
              "      <td>96.0</td>\n",
              "      <td>91.0</td>\n",
              "      <td>86.0</td>\n",
              "      <td>91.0</td>\n",
              "      <td>95.0</td>\n",
              "      <td>95.0</td>\n",
              "      <td>85.0</td>\n",
              "      <td>68.0</td>\n",
              "      <td>72.0</td>\n",
              "      <td>59.0</td>\n",
              "      <td>94.0</td>\n",
              "      <td>48.0</td>\n",
              "      <td>22.0</td>\n",
              "      <td>94.0</td>\n",
              "      <td>94.0</td>\n",
              "      <td>75.0</td>\n",
              "      <td>96.0</td>\n",
              "      <td>33.0</td>\n",
              "      <td>28.0</td>\n",
              "      <td>26.0</td>\n",
              "      <td>€110.5M</td>\n",
              "      <td>€226.5M</td>\n",
              "    </tr>\n",
              "    <tr>\n",
              "      <th>1</th>\n",
              "      <td>33</td>\n",
              "      <td>94</td>\n",
              "      <td>94</td>\n",
              "      <td>€405K</td>\n",
              "      <td>5.0</td>\n",
              "      <td>4.0</td>\n",
              "      <td>5.0</td>\n",
              "      <td>6'2</td>\n",
              "      <td>183lbs</td>\n",
              "      <td>84.0</td>\n",
              "      <td>94.0</td>\n",
              "      <td>89.0</td>\n",
              "      <td>81.0</td>\n",
              "      <td>87.0</td>\n",
              "      <td>88.0</td>\n",
              "      <td>81.0</td>\n",
              "      <td>76.0</td>\n",
              "      <td>77.0</td>\n",
              "      <td>94.0</td>\n",
              "      <td>89.0</td>\n",
              "      <td>91.0</td>\n",
              "      <td>87.0</td>\n",
              "      <td>96.0</td>\n",
              "      <td>70.0</td>\n",
              "      <td>95.0</td>\n",
              "      <td>95.0</td>\n",
              "      <td>88.0</td>\n",
              "      <td>79.0</td>\n",
              "      <td>93.0</td>\n",
              "      <td>63.0</td>\n",
              "      <td>29.0</td>\n",
              "      <td>95.0</td>\n",
              "      <td>82.0</td>\n",
              "      <td>85.0</td>\n",
              "      <td>95.0</td>\n",
              "      <td>28.0</td>\n",
              "      <td>31.0</td>\n",
              "      <td>23.0</td>\n",
              "      <td>€77M</td>\n",
              "      <td>€127.1M</td>\n",
              "    </tr>\n",
              "    <tr>\n",
              "      <th>2</th>\n",
              "      <td>26</td>\n",
              "      <td>92</td>\n",
              "      <td>93</td>\n",
              "      <td>€290K</td>\n",
              "      <td>5.0</td>\n",
              "      <td>5.0</td>\n",
              "      <td>5.0</td>\n",
              "      <td>5'9</td>\n",
              "      <td>150lbs</td>\n",
              "      <td>79.0</td>\n",
              "      <td>87.0</td>\n",
              "      <td>62.0</td>\n",
              "      <td>84.0</td>\n",
              "      <td>84.0</td>\n",
              "      <td>96.0</td>\n",
              "      <td>88.0</td>\n",
              "      <td>87.0</td>\n",
              "      <td>78.0</td>\n",
              "      <td>95.0</td>\n",
              "      <td>94.0</td>\n",
              "      <td>90.0</td>\n",
              "      <td>96.0</td>\n",
              "      <td>94.0</td>\n",
              "      <td>84.0</td>\n",
              "      <td>80.0</td>\n",
              "      <td>61.0</td>\n",
              "      <td>81.0</td>\n",
              "      <td>49.0</td>\n",
              "      <td>82.0</td>\n",
              "      <td>56.0</td>\n",
              "      <td>36.0</td>\n",
              "      <td>89.0</td>\n",
              "      <td>87.0</td>\n",
              "      <td>81.0</td>\n",
              "      <td>94.0</td>\n",
              "      <td>27.0</td>\n",
              "      <td>24.0</td>\n",
              "      <td>33.0</td>\n",
              "      <td>€118.5M</td>\n",
              "      <td>€228.1M</td>\n",
              "    </tr>\n",
              "    <tr>\n",
              "      <th>3</th>\n",
              "      <td>27</td>\n",
              "      <td>91</td>\n",
              "      <td>93</td>\n",
              "      <td>€260K</td>\n",
              "      <td>4.0</td>\n",
              "      <td>3.0</td>\n",
              "      <td>1.0</td>\n",
              "      <td>6'4</td>\n",
              "      <td>168lbs</td>\n",
              "      <td>17.0</td>\n",
              "      <td>13.0</td>\n",
              "      <td>21.0</td>\n",
              "      <td>50.0</td>\n",
              "      <td>13.0</td>\n",
              "      <td>18.0</td>\n",
              "      <td>21.0</td>\n",
              "      <td>19.0</td>\n",
              "      <td>51.0</td>\n",
              "      <td>42.0</td>\n",
              "      <td>57.0</td>\n",
              "      <td>58.0</td>\n",
              "      <td>60.0</td>\n",
              "      <td>90.0</td>\n",
              "      <td>43.0</td>\n",
              "      <td>31.0</td>\n",
              "      <td>67.0</td>\n",
              "      <td>43.0</td>\n",
              "      <td>64.0</td>\n",
              "      <td>12.0</td>\n",
              "      <td>38.0</td>\n",
              "      <td>30.0</td>\n",
              "      <td>12.0</td>\n",
              "      <td>68.0</td>\n",
              "      <td>40.0</td>\n",
              "      <td>68.0</td>\n",
              "      <td>15.0</td>\n",
              "      <td>21.0</td>\n",
              "      <td>13.0</td>\n",
              "      <td>€72M</td>\n",
              "      <td>€138.6M</td>\n",
              "    </tr>\n",
              "    <tr>\n",
              "      <th>4</th>\n",
              "      <td>27</td>\n",
              "      <td>91</td>\n",
              "      <td>92</td>\n",
              "      <td>€355K</td>\n",
              "      <td>4.0</td>\n",
              "      <td>5.0</td>\n",
              "      <td>4.0</td>\n",
              "      <td>5'11</td>\n",
              "      <td>154lbs</td>\n",
              "      <td>93.0</td>\n",
              "      <td>82.0</td>\n",
              "      <td>55.0</td>\n",
              "      <td>92.0</td>\n",
              "      <td>82.0</td>\n",
              "      <td>86.0</td>\n",
              "      <td>85.0</td>\n",
              "      <td>83.0</td>\n",
              "      <td>91.0</td>\n",
              "      <td>91.0</td>\n",
              "      <td>78.0</td>\n",
              "      <td>76.0</td>\n",
              "      <td>79.0</td>\n",
              "      <td>91.0</td>\n",
              "      <td>77.0</td>\n",
              "      <td>91.0</td>\n",
              "      <td>63.0</td>\n",
              "      <td>90.0</td>\n",
              "      <td>75.0</td>\n",
              "      <td>91.0</td>\n",
              "      <td>76.0</td>\n",
              "      <td>61.0</td>\n",
              "      <td>87.0</td>\n",
              "      <td>94.0</td>\n",
              "      <td>79.0</td>\n",
              "      <td>88.0</td>\n",
              "      <td>68.0</td>\n",
              "      <td>58.0</td>\n",
              "      <td>51.0</td>\n",
              "      <td>€102M</td>\n",
              "      <td>€196.4M</td>\n",
              "    </tr>\n",
              "    <tr>\n",
              "      <th>...</th>\n",
              "      <td>...</td>\n",
              "      <td>...</td>\n",
              "      <td>...</td>\n",
              "      <td>...</td>\n",
              "      <td>...</td>\n",
              "      <td>...</td>\n",
              "      <td>...</td>\n",
              "      <td>...</td>\n",
              "      <td>...</td>\n",
              "      <td>...</td>\n",
              "      <td>...</td>\n",
              "      <td>...</td>\n",
              "      <td>...</td>\n",
              "      <td>...</td>\n",
              "      <td>...</td>\n",
              "      <td>...</td>\n",
              "      <td>...</td>\n",
              "      <td>...</td>\n",
              "      <td>...</td>\n",
              "      <td>...</td>\n",
              "      <td>...</td>\n",
              "      <td>...</td>\n",
              "      <td>...</td>\n",
              "      <td>...</td>\n",
              "      <td>...</td>\n",
              "      <td>...</td>\n",
              "      <td>...</td>\n",
              "      <td>...</td>\n",
              "      <td>...</td>\n",
              "      <td>...</td>\n",
              "      <td>...</td>\n",
              "      <td>...</td>\n",
              "      <td>...</td>\n",
              "      <td>...</td>\n",
              "      <td>...</td>\n",
              "      <td>...</td>\n",
              "      <td>...</td>\n",
              "      <td>...</td>\n",
              "      <td>...</td>\n",
              "      <td>...</td>\n",
              "    </tr>\n",
              "    <tr>\n",
              "      <th>18202</th>\n",
              "      <td>19</td>\n",
              "      <td>47</td>\n",
              "      <td>65</td>\n",
              "      <td>€1K</td>\n",
              "      <td>1.0</td>\n",
              "      <td>2.0</td>\n",
              "      <td>2.0</td>\n",
              "      <td>5'9</td>\n",
              "      <td>134lbs</td>\n",
              "      <td>34.0</td>\n",
              "      <td>38.0</td>\n",
              "      <td>40.0</td>\n",
              "      <td>49.0</td>\n",
              "      <td>25.0</td>\n",
              "      <td>42.0</td>\n",
              "      <td>30.0</td>\n",
              "      <td>34.0</td>\n",
              "      <td>45.0</td>\n",
              "      <td>43.0</td>\n",
              "      <td>54.0</td>\n",
              "      <td>57.0</td>\n",
              "      <td>60.0</td>\n",
              "      <td>49.0</td>\n",
              "      <td>76.0</td>\n",
              "      <td>43.0</td>\n",
              "      <td>55.0</td>\n",
              "      <td>40.0</td>\n",
              "      <td>47.0</td>\n",
              "      <td>38.0</td>\n",
              "      <td>46.0</td>\n",
              "      <td>46.0</td>\n",
              "      <td>39.0</td>\n",
              "      <td>52.0</td>\n",
              "      <td>43.0</td>\n",
              "      <td>45.0</td>\n",
              "      <td>40.0</td>\n",
              "      <td>48.0</td>\n",
              "      <td>47.0</td>\n",
              "      <td>€60K</td>\n",
              "      <td>€143K</td>\n",
              "    </tr>\n",
              "    <tr>\n",
              "      <th>18203</th>\n",
              "      <td>19</td>\n",
              "      <td>47</td>\n",
              "      <td>63</td>\n",
              "      <td>€1K</td>\n",
              "      <td>1.0</td>\n",
              "      <td>2.0</td>\n",
              "      <td>2.0</td>\n",
              "      <td>6'3</td>\n",
              "      <td>170lbs</td>\n",
              "      <td>23.0</td>\n",
              "      <td>52.0</td>\n",
              "      <td>52.0</td>\n",
              "      <td>43.0</td>\n",
              "      <td>36.0</td>\n",
              "      <td>39.0</td>\n",
              "      <td>32.0</td>\n",
              "      <td>20.0</td>\n",
              "      <td>25.0</td>\n",
              "      <td>40.0</td>\n",
              "      <td>41.0</td>\n",
              "      <td>39.0</td>\n",
              "      <td>38.0</td>\n",
              "      <td>40.0</td>\n",
              "      <td>52.0</td>\n",
              "      <td>41.0</td>\n",
              "      <td>47.0</td>\n",
              "      <td>43.0</td>\n",
              "      <td>67.0</td>\n",
              "      <td>42.0</td>\n",
              "      <td>47.0</td>\n",
              "      <td>16.0</td>\n",
              "      <td>46.0</td>\n",
              "      <td>33.0</td>\n",
              "      <td>43.0</td>\n",
              "      <td>42.0</td>\n",
              "      <td>22.0</td>\n",
              "      <td>15.0</td>\n",
              "      <td>19.0</td>\n",
              "      <td>€60K</td>\n",
              "      <td>€113K</td>\n",
              "    </tr>\n",
              "    <tr>\n",
              "      <th>18204</th>\n",
              "      <td>16</td>\n",
              "      <td>47</td>\n",
              "      <td>67</td>\n",
              "      <td>€1K</td>\n",
              "      <td>1.0</td>\n",
              "      <td>3.0</td>\n",
              "      <td>2.0</td>\n",
              "      <td>5'8</td>\n",
              "      <td>148lbs</td>\n",
              "      <td>25.0</td>\n",
              "      <td>40.0</td>\n",
              "      <td>46.0</td>\n",
              "      <td>38.0</td>\n",
              "      <td>38.0</td>\n",
              "      <td>45.0</td>\n",
              "      <td>38.0</td>\n",
              "      <td>27.0</td>\n",
              "      <td>28.0</td>\n",
              "      <td>44.0</td>\n",
              "      <td>70.0</td>\n",
              "      <td>69.0</td>\n",
              "      <td>50.0</td>\n",
              "      <td>47.0</td>\n",
              "      <td>58.0</td>\n",
              "      <td>45.0</td>\n",
              "      <td>60.0</td>\n",
              "      <td>55.0</td>\n",
              "      <td>32.0</td>\n",
              "      <td>45.0</td>\n",
              "      <td>32.0</td>\n",
              "      <td>15.0</td>\n",
              "      <td>48.0</td>\n",
              "      <td>43.0</td>\n",
              "      <td>55.0</td>\n",
              "      <td>41.0</td>\n",
              "      <td>32.0</td>\n",
              "      <td>13.0</td>\n",
              "      <td>11.0</td>\n",
              "      <td>€60K</td>\n",
              "      <td>€165K</td>\n",
              "    </tr>\n",
              "    <tr>\n",
              "      <th>18205</th>\n",
              "      <td>17</td>\n",
              "      <td>47</td>\n",
              "      <td>66</td>\n",
              "      <td>€1K</td>\n",
              "      <td>1.0</td>\n",
              "      <td>3.0</td>\n",
              "      <td>2.0</td>\n",
              "      <td>5'10</td>\n",
              "      <td>154lbs</td>\n",
              "      <td>44.0</td>\n",
              "      <td>50.0</td>\n",
              "      <td>39.0</td>\n",
              "      <td>42.0</td>\n",
              "      <td>40.0</td>\n",
              "      <td>51.0</td>\n",
              "      <td>34.0</td>\n",
              "      <td>32.0</td>\n",
              "      <td>32.0</td>\n",
              "      <td>52.0</td>\n",
              "      <td>61.0</td>\n",
              "      <td>60.0</td>\n",
              "      <td>52.0</td>\n",
              "      <td>21.0</td>\n",
              "      <td>71.0</td>\n",
              "      <td>64.0</td>\n",
              "      <td>42.0</td>\n",
              "      <td>40.0</td>\n",
              "      <td>48.0</td>\n",
              "      <td>34.0</td>\n",
              "      <td>33.0</td>\n",
              "      <td>22.0</td>\n",
              "      <td>44.0</td>\n",
              "      <td>47.0</td>\n",
              "      <td>50.0</td>\n",
              "      <td>46.0</td>\n",
              "      <td>20.0</td>\n",
              "      <td>25.0</td>\n",
              "      <td>27.0</td>\n",
              "      <td>€60K</td>\n",
              "      <td>€143K</td>\n",
              "    </tr>\n",
              "    <tr>\n",
              "      <th>18206</th>\n",
              "      <td>16</td>\n",
              "      <td>46</td>\n",
              "      <td>66</td>\n",
              "      <td>€1K</td>\n",
              "      <td>1.0</td>\n",
              "      <td>3.0</td>\n",
              "      <td>2.0</td>\n",
              "      <td>5'10</td>\n",
              "      <td>176lbs</td>\n",
              "      <td>41.0</td>\n",
              "      <td>34.0</td>\n",
              "      <td>46.0</td>\n",
              "      <td>48.0</td>\n",
              "      <td>30.0</td>\n",
              "      <td>43.0</td>\n",
              "      <td>40.0</td>\n",
              "      <td>34.0</td>\n",
              "      <td>44.0</td>\n",
              "      <td>51.0</td>\n",
              "      <td>57.0</td>\n",
              "      <td>55.0</td>\n",
              "      <td>55.0</td>\n",
              "      <td>51.0</td>\n",
              "      <td>63.0</td>\n",
              "      <td>43.0</td>\n",
              "      <td>62.0</td>\n",
              "      <td>47.0</td>\n",
              "      <td>60.0</td>\n",
              "      <td>32.0</td>\n",
              "      <td>56.0</td>\n",
              "      <td>42.0</td>\n",
              "      <td>34.0</td>\n",
              "      <td>49.0</td>\n",
              "      <td>33.0</td>\n",
              "      <td>43.0</td>\n",
              "      <td>40.0</td>\n",
              "      <td>43.0</td>\n",
              "      <td>50.0</td>\n",
              "      <td>€60K</td>\n",
              "      <td>€165K</td>\n",
              "    </tr>\n",
              "  </tbody>\n",
              "</table>\n",
              "<p>18207 rows × 40 columns</p>\n",
              "</div>"
            ],
            "text/plain": [
              "       Age  Overall  Potential  ... SlidingTackle    Value  Release Clause\n",
              "0       31       94         94  ...          26.0  €110.5M         €226.5M\n",
              "1       33       94         94  ...          23.0     €77M         €127.1M\n",
              "2       26       92         93  ...          33.0  €118.5M         €228.1M\n",
              "3       27       91         93  ...          13.0     €72M         €138.6M\n",
              "4       27       91         92  ...          51.0    €102M         €196.4M\n",
              "...    ...      ...        ...  ...           ...      ...             ...\n",
              "18202   19       47         65  ...          47.0     €60K           €143K\n",
              "18203   19       47         63  ...          19.0     €60K           €113K\n",
              "18204   16       47         67  ...          11.0     €60K           €165K\n",
              "18205   17       47         66  ...          27.0     €60K           €143K\n",
              "18206   16       46         66  ...          50.0     €60K           €165K\n",
              "\n",
              "[18207 rows x 40 columns]"
            ]
          },
          "metadata": {
            "tags": []
          },
          "execution_count": 17
        }
      ]
    },
    {
      "cell_type": "markdown",
      "metadata": {
        "id": "kaxoqlXbtxjz"
      },
      "source": [
        "Above is the reduced dataset that I will be using for my models"
      ]
    },
    {
      "cell_type": "code",
      "metadata": {
        "id": "fDHLwHxAaoKV"
      },
      "source": [
        "FIFA_ds = FIFA_ds[valid_columns]\n",
        "FIFA_ds.dropna(inplace=True)"
      ],
      "execution_count": null,
      "outputs": []
    },
    {
      "cell_type": "markdown",
      "metadata": {
        "id": "D4si9g8gt3dY"
      },
      "source": [
        "Replacing the orignal dataset with the new reduced dataset"
      ]
    },
    {
      "cell_type": "code",
      "metadata": {
        "id": "fxd6YpeJa7J3",
        "colab": {
          "base_uri": "https://localhost:8080/"
        },
        "outputId": "6da5e4b6-210c-4010-cd53-07be189f1eec"
      },
      "source": [
        "FIFA_ds.isnull().sum().sum()"
      ],
      "execution_count": null,
      "outputs": [
        {
          "output_type": "execute_result",
          "data": {
            "text/plain": [
              "0"
            ]
          },
          "metadata": {
            "tags": []
          },
          "execution_count": 19
        }
      ]
    },
    {
      "cell_type": "markdown",
      "metadata": {
        "id": "kBCLV7zGbmYV"
      },
      "source": [
        "As we can see, we have handled all the missing values"
      ]
    },
    {
      "cell_type": "markdown",
      "metadata": {
        "id": "qENmMmyFuFBj"
      },
      "source": [
        "Since Height has \" **'** \" and Weight has \"**lbs**\", these are not numerical attributes but rather string attributes. To convert them, I created the following 2 functions."
      ]
    },
    {
      "cell_type": "code",
      "metadata": {
        "id": "ZaRIZAsOiS1r"
      },
      "source": [
        "def height_conversion(value):\n",
        "\n",
        "    a = value.split(\"'\")[0]\n",
        "    b = value.split(\"'\")[1]\n",
        "    result = (int(a)*12) + (int(b)*1)\n",
        "    return result\n",
        "\n",
        "def weight_conversion(value):\n",
        "\n",
        "    weight = int(value.split('lbs')[0])\n",
        "    return weight\n"
      ],
      "execution_count": null,
      "outputs": []
    },
    {
      "cell_type": "code",
      "metadata": {
        "id": "pwh9sOdyi0eS"
      },
      "source": [
        "FIFA_ds['Height (inches)'] = FIFA_ds['Height'].apply(height_conversion)\n",
        "FIFA_ds['Weight (lbs)'] = FIFA_ds['Weight'].apply(weight_conversion)\n",
        "\n",
        "FIFA_ds.drop(columns=['Height', 'Weight'], inplace=True)\n"
      ],
      "execution_count": null,
      "outputs": []
    },
    {
      "cell_type": "markdown",
      "metadata": {
        "id": "tNTU7tqhuYyJ"
      },
      "source": [
        "With the above functions, we successfully covert the data type from string to numerical and replace the orignal **Height** and **Weight** columns with our new columns"
      ]
    },
    {
      "cell_type": "code",
      "metadata": {
        "id": "RpzbU2z1bv7k"
      },
      "source": [
        "def money_conversion(value):\n",
        "    if value[-1] == 'K':\n",
        "        value = value[1:-1]\n",
        "        value = float(value)*1000\n",
        "        return value\n",
        "        \n",
        "    elif value[-1] == 'M':\n",
        "        value = value[1:-1]\n",
        "        value = float(value)*1000000\n",
        "        return value\n",
        "    \n",
        "    else:\n",
        "        return 0"
      ],
      "execution_count": null,
      "outputs": []
    },
    {
      "cell_type": "code",
      "metadata": {
        "id": "uJK2fpGWe1ny"
      },
      "source": [
        "FIFA_ds['Numeric Wage'] = FIFA_ds['Wage'].apply(money_conversion)\n",
        "FIFA_ds['Numeric Value'] = FIFA_ds['Value'].apply(money_conversion)\n",
        "FIFA_ds['Numeric Release Clause'] = FIFA_ds['Release Clause'].apply(money_conversion)\n",
        "FIFA_ds.drop(columns=['Value', 'Wage', 'Release Clause'], inplace=True)\n",
        "\n"
      ],
      "execution_count": null,
      "outputs": []
    },
    {
      "cell_type": "markdown",
      "metadata": {
        "id": "kjrPDRMywJM2"
      },
      "source": [
        "Similar to the Height and Weight columns, we have converted the columns - Wage, Value and Release Clause from string to number by removing the currency symbol and expanding the \"**K**\" and \"**M**\" values by creating a similar function"
      ]
    },
    {
      "cell_type": "code",
      "metadata": {
        "id": "nTahGSvVwE5L",
        "colab": {
          "base_uri": "https://localhost:8080/",
          "height": 473
        },
        "outputId": "f35cf1b7-672f-4a84-bed0-986752774f7e"
      },
      "source": [
        "FIFA_ds"
      ],
      "execution_count": null,
      "outputs": [
        {
          "output_type": "execute_result",
          "data": {
            "text/html": [
              "<div>\n",
              "<style scoped>\n",
              "    .dataframe tbody tr th:only-of-type {\n",
              "        vertical-align: middle;\n",
              "    }\n",
              "\n",
              "    .dataframe tbody tr th {\n",
              "        vertical-align: top;\n",
              "    }\n",
              "\n",
              "    .dataframe thead th {\n",
              "        text-align: right;\n",
              "    }\n",
              "</style>\n",
              "<table border=\"1\" class=\"dataframe\">\n",
              "  <thead>\n",
              "    <tr style=\"text-align: right;\">\n",
              "      <th></th>\n",
              "      <th>Age</th>\n",
              "      <th>Overall</th>\n",
              "      <th>Potential</th>\n",
              "      <th>International Reputation</th>\n",
              "      <th>Weak Foot</th>\n",
              "      <th>Skill Moves</th>\n",
              "      <th>Crossing</th>\n",
              "      <th>Finishing</th>\n",
              "      <th>HeadingAccuracy</th>\n",
              "      <th>ShortPassing</th>\n",
              "      <th>Volleys</th>\n",
              "      <th>Dribbling</th>\n",
              "      <th>Curve</th>\n",
              "      <th>FKAccuracy</th>\n",
              "      <th>LongPassing</th>\n",
              "      <th>BallControl</th>\n",
              "      <th>Acceleration</th>\n",
              "      <th>SprintSpeed</th>\n",
              "      <th>Agility</th>\n",
              "      <th>Reactions</th>\n",
              "      <th>Balance</th>\n",
              "      <th>ShotPower</th>\n",
              "      <th>Jumping</th>\n",
              "      <th>Stamina</th>\n",
              "      <th>Strength</th>\n",
              "      <th>LongShots</th>\n",
              "      <th>Aggression</th>\n",
              "      <th>Interceptions</th>\n",
              "      <th>Positioning</th>\n",
              "      <th>Vision</th>\n",
              "      <th>Penalties</th>\n",
              "      <th>Composure</th>\n",
              "      <th>Marking</th>\n",
              "      <th>StandingTackle</th>\n",
              "      <th>SlidingTackle</th>\n",
              "      <th>Height (inches)</th>\n",
              "      <th>Weight (lbs)</th>\n",
              "      <th>Numeric Wage</th>\n",
              "      <th>Numeric Value</th>\n",
              "      <th>Numeric Release Clause</th>\n",
              "    </tr>\n",
              "  </thead>\n",
              "  <tbody>\n",
              "    <tr>\n",
              "      <th>0</th>\n",
              "      <td>31</td>\n",
              "      <td>94</td>\n",
              "      <td>94</td>\n",
              "      <td>5.0</td>\n",
              "      <td>4.0</td>\n",
              "      <td>4.0</td>\n",
              "      <td>84.0</td>\n",
              "      <td>95.0</td>\n",
              "      <td>70.0</td>\n",
              "      <td>90.0</td>\n",
              "      <td>86.0</td>\n",
              "      <td>97.0</td>\n",
              "      <td>93.0</td>\n",
              "      <td>94.0</td>\n",
              "      <td>87.0</td>\n",
              "      <td>96.0</td>\n",
              "      <td>91.0</td>\n",
              "      <td>86.0</td>\n",
              "      <td>91.0</td>\n",
              "      <td>95.0</td>\n",
              "      <td>95.0</td>\n",
              "      <td>85.0</td>\n",
              "      <td>68.0</td>\n",
              "      <td>72.0</td>\n",
              "      <td>59.0</td>\n",
              "      <td>94.0</td>\n",
              "      <td>48.0</td>\n",
              "      <td>22.0</td>\n",
              "      <td>94.0</td>\n",
              "      <td>94.0</td>\n",
              "      <td>75.0</td>\n",
              "      <td>96.0</td>\n",
              "      <td>33.0</td>\n",
              "      <td>28.0</td>\n",
              "      <td>26.0</td>\n",
              "      <td>67</td>\n",
              "      <td>159</td>\n",
              "      <td>565000.0</td>\n",
              "      <td>110500000.0</td>\n",
              "      <td>226500000.0</td>\n",
              "    </tr>\n",
              "    <tr>\n",
              "      <th>1</th>\n",
              "      <td>33</td>\n",
              "      <td>94</td>\n",
              "      <td>94</td>\n",
              "      <td>5.0</td>\n",
              "      <td>4.0</td>\n",
              "      <td>5.0</td>\n",
              "      <td>84.0</td>\n",
              "      <td>94.0</td>\n",
              "      <td>89.0</td>\n",
              "      <td>81.0</td>\n",
              "      <td>87.0</td>\n",
              "      <td>88.0</td>\n",
              "      <td>81.0</td>\n",
              "      <td>76.0</td>\n",
              "      <td>77.0</td>\n",
              "      <td>94.0</td>\n",
              "      <td>89.0</td>\n",
              "      <td>91.0</td>\n",
              "      <td>87.0</td>\n",
              "      <td>96.0</td>\n",
              "      <td>70.0</td>\n",
              "      <td>95.0</td>\n",
              "      <td>95.0</td>\n",
              "      <td>88.0</td>\n",
              "      <td>79.0</td>\n",
              "      <td>93.0</td>\n",
              "      <td>63.0</td>\n",
              "      <td>29.0</td>\n",
              "      <td>95.0</td>\n",
              "      <td>82.0</td>\n",
              "      <td>85.0</td>\n",
              "      <td>95.0</td>\n",
              "      <td>28.0</td>\n",
              "      <td>31.0</td>\n",
              "      <td>23.0</td>\n",
              "      <td>74</td>\n",
              "      <td>183</td>\n",
              "      <td>405000.0</td>\n",
              "      <td>77000000.0</td>\n",
              "      <td>127100000.0</td>\n",
              "    </tr>\n",
              "    <tr>\n",
              "      <th>2</th>\n",
              "      <td>26</td>\n",
              "      <td>92</td>\n",
              "      <td>93</td>\n",
              "      <td>5.0</td>\n",
              "      <td>5.0</td>\n",
              "      <td>5.0</td>\n",
              "      <td>79.0</td>\n",
              "      <td>87.0</td>\n",
              "      <td>62.0</td>\n",
              "      <td>84.0</td>\n",
              "      <td>84.0</td>\n",
              "      <td>96.0</td>\n",
              "      <td>88.0</td>\n",
              "      <td>87.0</td>\n",
              "      <td>78.0</td>\n",
              "      <td>95.0</td>\n",
              "      <td>94.0</td>\n",
              "      <td>90.0</td>\n",
              "      <td>96.0</td>\n",
              "      <td>94.0</td>\n",
              "      <td>84.0</td>\n",
              "      <td>80.0</td>\n",
              "      <td>61.0</td>\n",
              "      <td>81.0</td>\n",
              "      <td>49.0</td>\n",
              "      <td>82.0</td>\n",
              "      <td>56.0</td>\n",
              "      <td>36.0</td>\n",
              "      <td>89.0</td>\n",
              "      <td>87.0</td>\n",
              "      <td>81.0</td>\n",
              "      <td>94.0</td>\n",
              "      <td>27.0</td>\n",
              "      <td>24.0</td>\n",
              "      <td>33.0</td>\n",
              "      <td>69</td>\n",
              "      <td>150</td>\n",
              "      <td>290000.0</td>\n",
              "      <td>118500000.0</td>\n",
              "      <td>228100000.0</td>\n",
              "    </tr>\n",
              "    <tr>\n",
              "      <th>3</th>\n",
              "      <td>27</td>\n",
              "      <td>91</td>\n",
              "      <td>93</td>\n",
              "      <td>4.0</td>\n",
              "      <td>3.0</td>\n",
              "      <td>1.0</td>\n",
              "      <td>17.0</td>\n",
              "      <td>13.0</td>\n",
              "      <td>21.0</td>\n",
              "      <td>50.0</td>\n",
              "      <td>13.0</td>\n",
              "      <td>18.0</td>\n",
              "      <td>21.0</td>\n",
              "      <td>19.0</td>\n",
              "      <td>51.0</td>\n",
              "      <td>42.0</td>\n",
              "      <td>57.0</td>\n",
              "      <td>58.0</td>\n",
              "      <td>60.0</td>\n",
              "      <td>90.0</td>\n",
              "      <td>43.0</td>\n",
              "      <td>31.0</td>\n",
              "      <td>67.0</td>\n",
              "      <td>43.0</td>\n",
              "      <td>64.0</td>\n",
              "      <td>12.0</td>\n",
              "      <td>38.0</td>\n",
              "      <td>30.0</td>\n",
              "      <td>12.0</td>\n",
              "      <td>68.0</td>\n",
              "      <td>40.0</td>\n",
              "      <td>68.0</td>\n",
              "      <td>15.0</td>\n",
              "      <td>21.0</td>\n",
              "      <td>13.0</td>\n",
              "      <td>76</td>\n",
              "      <td>168</td>\n",
              "      <td>260000.0</td>\n",
              "      <td>72000000.0</td>\n",
              "      <td>138600000.0</td>\n",
              "    </tr>\n",
              "    <tr>\n",
              "      <th>4</th>\n",
              "      <td>27</td>\n",
              "      <td>91</td>\n",
              "      <td>92</td>\n",
              "      <td>4.0</td>\n",
              "      <td>5.0</td>\n",
              "      <td>4.0</td>\n",
              "      <td>93.0</td>\n",
              "      <td>82.0</td>\n",
              "      <td>55.0</td>\n",
              "      <td>92.0</td>\n",
              "      <td>82.0</td>\n",
              "      <td>86.0</td>\n",
              "      <td>85.0</td>\n",
              "      <td>83.0</td>\n",
              "      <td>91.0</td>\n",
              "      <td>91.0</td>\n",
              "      <td>78.0</td>\n",
              "      <td>76.0</td>\n",
              "      <td>79.0</td>\n",
              "      <td>91.0</td>\n",
              "      <td>77.0</td>\n",
              "      <td>91.0</td>\n",
              "      <td>63.0</td>\n",
              "      <td>90.0</td>\n",
              "      <td>75.0</td>\n",
              "      <td>91.0</td>\n",
              "      <td>76.0</td>\n",
              "      <td>61.0</td>\n",
              "      <td>87.0</td>\n",
              "      <td>94.0</td>\n",
              "      <td>79.0</td>\n",
              "      <td>88.0</td>\n",
              "      <td>68.0</td>\n",
              "      <td>58.0</td>\n",
              "      <td>51.0</td>\n",
              "      <td>71</td>\n",
              "      <td>154</td>\n",
              "      <td>355000.0</td>\n",
              "      <td>102000000.0</td>\n",
              "      <td>196400000.0</td>\n",
              "    </tr>\n",
              "    <tr>\n",
              "      <th>...</th>\n",
              "      <td>...</td>\n",
              "      <td>...</td>\n",
              "      <td>...</td>\n",
              "      <td>...</td>\n",
              "      <td>...</td>\n",
              "      <td>...</td>\n",
              "      <td>...</td>\n",
              "      <td>...</td>\n",
              "      <td>...</td>\n",
              "      <td>...</td>\n",
              "      <td>...</td>\n",
              "      <td>...</td>\n",
              "      <td>...</td>\n",
              "      <td>...</td>\n",
              "      <td>...</td>\n",
              "      <td>...</td>\n",
              "      <td>...</td>\n",
              "      <td>...</td>\n",
              "      <td>...</td>\n",
              "      <td>...</td>\n",
              "      <td>...</td>\n",
              "      <td>...</td>\n",
              "      <td>...</td>\n",
              "      <td>...</td>\n",
              "      <td>...</td>\n",
              "      <td>...</td>\n",
              "      <td>...</td>\n",
              "      <td>...</td>\n",
              "      <td>...</td>\n",
              "      <td>...</td>\n",
              "      <td>...</td>\n",
              "      <td>...</td>\n",
              "      <td>...</td>\n",
              "      <td>...</td>\n",
              "      <td>...</td>\n",
              "      <td>...</td>\n",
              "      <td>...</td>\n",
              "      <td>...</td>\n",
              "      <td>...</td>\n",
              "      <td>...</td>\n",
              "    </tr>\n",
              "    <tr>\n",
              "      <th>18202</th>\n",
              "      <td>19</td>\n",
              "      <td>47</td>\n",
              "      <td>65</td>\n",
              "      <td>1.0</td>\n",
              "      <td>2.0</td>\n",
              "      <td>2.0</td>\n",
              "      <td>34.0</td>\n",
              "      <td>38.0</td>\n",
              "      <td>40.0</td>\n",
              "      <td>49.0</td>\n",
              "      <td>25.0</td>\n",
              "      <td>42.0</td>\n",
              "      <td>30.0</td>\n",
              "      <td>34.0</td>\n",
              "      <td>45.0</td>\n",
              "      <td>43.0</td>\n",
              "      <td>54.0</td>\n",
              "      <td>57.0</td>\n",
              "      <td>60.0</td>\n",
              "      <td>49.0</td>\n",
              "      <td>76.0</td>\n",
              "      <td>43.0</td>\n",
              "      <td>55.0</td>\n",
              "      <td>40.0</td>\n",
              "      <td>47.0</td>\n",
              "      <td>38.0</td>\n",
              "      <td>46.0</td>\n",
              "      <td>46.0</td>\n",
              "      <td>39.0</td>\n",
              "      <td>52.0</td>\n",
              "      <td>43.0</td>\n",
              "      <td>45.0</td>\n",
              "      <td>40.0</td>\n",
              "      <td>48.0</td>\n",
              "      <td>47.0</td>\n",
              "      <td>69</td>\n",
              "      <td>134</td>\n",
              "      <td>1000.0</td>\n",
              "      <td>60000.0</td>\n",
              "      <td>143000.0</td>\n",
              "    </tr>\n",
              "    <tr>\n",
              "      <th>18203</th>\n",
              "      <td>19</td>\n",
              "      <td>47</td>\n",
              "      <td>63</td>\n",
              "      <td>1.0</td>\n",
              "      <td>2.0</td>\n",
              "      <td>2.0</td>\n",
              "      <td>23.0</td>\n",
              "      <td>52.0</td>\n",
              "      <td>52.0</td>\n",
              "      <td>43.0</td>\n",
              "      <td>36.0</td>\n",
              "      <td>39.0</td>\n",
              "      <td>32.0</td>\n",
              "      <td>20.0</td>\n",
              "      <td>25.0</td>\n",
              "      <td>40.0</td>\n",
              "      <td>41.0</td>\n",
              "      <td>39.0</td>\n",
              "      <td>38.0</td>\n",
              "      <td>40.0</td>\n",
              "      <td>52.0</td>\n",
              "      <td>41.0</td>\n",
              "      <td>47.0</td>\n",
              "      <td>43.0</td>\n",
              "      <td>67.0</td>\n",
              "      <td>42.0</td>\n",
              "      <td>47.0</td>\n",
              "      <td>16.0</td>\n",
              "      <td>46.0</td>\n",
              "      <td>33.0</td>\n",
              "      <td>43.0</td>\n",
              "      <td>42.0</td>\n",
              "      <td>22.0</td>\n",
              "      <td>15.0</td>\n",
              "      <td>19.0</td>\n",
              "      <td>75</td>\n",
              "      <td>170</td>\n",
              "      <td>1000.0</td>\n",
              "      <td>60000.0</td>\n",
              "      <td>113000.0</td>\n",
              "    </tr>\n",
              "    <tr>\n",
              "      <th>18204</th>\n",
              "      <td>16</td>\n",
              "      <td>47</td>\n",
              "      <td>67</td>\n",
              "      <td>1.0</td>\n",
              "      <td>3.0</td>\n",
              "      <td>2.0</td>\n",
              "      <td>25.0</td>\n",
              "      <td>40.0</td>\n",
              "      <td>46.0</td>\n",
              "      <td>38.0</td>\n",
              "      <td>38.0</td>\n",
              "      <td>45.0</td>\n",
              "      <td>38.0</td>\n",
              "      <td>27.0</td>\n",
              "      <td>28.0</td>\n",
              "      <td>44.0</td>\n",
              "      <td>70.0</td>\n",
              "      <td>69.0</td>\n",
              "      <td>50.0</td>\n",
              "      <td>47.0</td>\n",
              "      <td>58.0</td>\n",
              "      <td>45.0</td>\n",
              "      <td>60.0</td>\n",
              "      <td>55.0</td>\n",
              "      <td>32.0</td>\n",
              "      <td>45.0</td>\n",
              "      <td>32.0</td>\n",
              "      <td>15.0</td>\n",
              "      <td>48.0</td>\n",
              "      <td>43.0</td>\n",
              "      <td>55.0</td>\n",
              "      <td>41.0</td>\n",
              "      <td>32.0</td>\n",
              "      <td>13.0</td>\n",
              "      <td>11.0</td>\n",
              "      <td>68</td>\n",
              "      <td>148</td>\n",
              "      <td>1000.0</td>\n",
              "      <td>60000.0</td>\n",
              "      <td>165000.0</td>\n",
              "    </tr>\n",
              "    <tr>\n",
              "      <th>18205</th>\n",
              "      <td>17</td>\n",
              "      <td>47</td>\n",
              "      <td>66</td>\n",
              "      <td>1.0</td>\n",
              "      <td>3.0</td>\n",
              "      <td>2.0</td>\n",
              "      <td>44.0</td>\n",
              "      <td>50.0</td>\n",
              "      <td>39.0</td>\n",
              "      <td>42.0</td>\n",
              "      <td>40.0</td>\n",
              "      <td>51.0</td>\n",
              "      <td>34.0</td>\n",
              "      <td>32.0</td>\n",
              "      <td>32.0</td>\n",
              "      <td>52.0</td>\n",
              "      <td>61.0</td>\n",
              "      <td>60.0</td>\n",
              "      <td>52.0</td>\n",
              "      <td>21.0</td>\n",
              "      <td>71.0</td>\n",
              "      <td>64.0</td>\n",
              "      <td>42.0</td>\n",
              "      <td>40.0</td>\n",
              "      <td>48.0</td>\n",
              "      <td>34.0</td>\n",
              "      <td>33.0</td>\n",
              "      <td>22.0</td>\n",
              "      <td>44.0</td>\n",
              "      <td>47.0</td>\n",
              "      <td>50.0</td>\n",
              "      <td>46.0</td>\n",
              "      <td>20.0</td>\n",
              "      <td>25.0</td>\n",
              "      <td>27.0</td>\n",
              "      <td>70</td>\n",
              "      <td>154</td>\n",
              "      <td>1000.0</td>\n",
              "      <td>60000.0</td>\n",
              "      <td>143000.0</td>\n",
              "    </tr>\n",
              "    <tr>\n",
              "      <th>18206</th>\n",
              "      <td>16</td>\n",
              "      <td>46</td>\n",
              "      <td>66</td>\n",
              "      <td>1.0</td>\n",
              "      <td>3.0</td>\n",
              "      <td>2.0</td>\n",
              "      <td>41.0</td>\n",
              "      <td>34.0</td>\n",
              "      <td>46.0</td>\n",
              "      <td>48.0</td>\n",
              "      <td>30.0</td>\n",
              "      <td>43.0</td>\n",
              "      <td>40.0</td>\n",
              "      <td>34.0</td>\n",
              "      <td>44.0</td>\n",
              "      <td>51.0</td>\n",
              "      <td>57.0</td>\n",
              "      <td>55.0</td>\n",
              "      <td>55.0</td>\n",
              "      <td>51.0</td>\n",
              "      <td>63.0</td>\n",
              "      <td>43.0</td>\n",
              "      <td>62.0</td>\n",
              "      <td>47.0</td>\n",
              "      <td>60.0</td>\n",
              "      <td>32.0</td>\n",
              "      <td>56.0</td>\n",
              "      <td>42.0</td>\n",
              "      <td>34.0</td>\n",
              "      <td>49.0</td>\n",
              "      <td>33.0</td>\n",
              "      <td>43.0</td>\n",
              "      <td>40.0</td>\n",
              "      <td>43.0</td>\n",
              "      <td>50.0</td>\n",
              "      <td>70</td>\n",
              "      <td>176</td>\n",
              "      <td>1000.0</td>\n",
              "      <td>60000.0</td>\n",
              "      <td>165000.0</td>\n",
              "    </tr>\n",
              "  </tbody>\n",
              "</table>\n",
              "<p>16643 rows × 40 columns</p>\n",
              "</div>"
            ],
            "text/plain": [
              "       Age  Overall  ...  Numeric Value  Numeric Release Clause\n",
              "0       31       94  ...    110500000.0             226500000.0\n",
              "1       33       94  ...     77000000.0             127100000.0\n",
              "2       26       92  ...    118500000.0             228100000.0\n",
              "3       27       91  ...     72000000.0             138600000.0\n",
              "4       27       91  ...    102000000.0             196400000.0\n",
              "...    ...      ...  ...            ...                     ...\n",
              "18202   19       47  ...        60000.0                143000.0\n",
              "18203   19       47  ...        60000.0                113000.0\n",
              "18204   16       47  ...        60000.0                165000.0\n",
              "18205   17       47  ...        60000.0                143000.0\n",
              "18206   16       46  ...        60000.0                165000.0\n",
              "\n",
              "[16643 rows x 40 columns]"
            ]
          },
          "metadata": {
            "tags": []
          },
          "execution_count": 24
        }
      ]
    },
    {
      "cell_type": "markdown",
      "metadata": {
        "id": "SnEpKyhmnlNH"
      },
      "source": [
        "With this, all our features have been converted into a numerical format."
      ]
    },
    {
      "cell_type": "code",
      "metadata": {
        "id": "0hAL55YWnrB2",
        "colab": {
          "base_uri": "https://localhost:8080/",
          "height": 1000
        },
        "outputId": "c744a59f-7802-42c1-db68-a06de912cfb7"
      },
      "source": [
        "corr_matrix=FIFA_ds.corr()\n",
        "corr_matrix"
      ],
      "execution_count": null,
      "outputs": [
        {
          "output_type": "execute_result",
          "data": {
            "text/html": [
              "<div>\n",
              "<style scoped>\n",
              "    .dataframe tbody tr th:only-of-type {\n",
              "        vertical-align: middle;\n",
              "    }\n",
              "\n",
              "    .dataframe tbody tr th {\n",
              "        vertical-align: top;\n",
              "    }\n",
              "\n",
              "    .dataframe thead th {\n",
              "        text-align: right;\n",
              "    }\n",
              "</style>\n",
              "<table border=\"1\" class=\"dataframe\">\n",
              "  <thead>\n",
              "    <tr style=\"text-align: right;\">\n",
              "      <th></th>\n",
              "      <th>Age</th>\n",
              "      <th>Overall</th>\n",
              "      <th>Potential</th>\n",
              "      <th>International Reputation</th>\n",
              "      <th>Weak Foot</th>\n",
              "      <th>Skill Moves</th>\n",
              "      <th>Crossing</th>\n",
              "      <th>Finishing</th>\n",
              "      <th>HeadingAccuracy</th>\n",
              "      <th>ShortPassing</th>\n",
              "      <th>Volleys</th>\n",
              "      <th>Dribbling</th>\n",
              "      <th>Curve</th>\n",
              "      <th>FKAccuracy</th>\n",
              "      <th>LongPassing</th>\n",
              "      <th>BallControl</th>\n",
              "      <th>Acceleration</th>\n",
              "      <th>SprintSpeed</th>\n",
              "      <th>Agility</th>\n",
              "      <th>Reactions</th>\n",
              "      <th>Balance</th>\n",
              "      <th>ShotPower</th>\n",
              "      <th>Jumping</th>\n",
              "      <th>Stamina</th>\n",
              "      <th>Strength</th>\n",
              "      <th>LongShots</th>\n",
              "      <th>Aggression</th>\n",
              "      <th>Interceptions</th>\n",
              "      <th>Positioning</th>\n",
              "      <th>Vision</th>\n",
              "      <th>Penalties</th>\n",
              "      <th>Composure</th>\n",
              "      <th>Marking</th>\n",
              "      <th>StandingTackle</th>\n",
              "      <th>SlidingTackle</th>\n",
              "      <th>Height (inches)</th>\n",
              "      <th>Weight (lbs)</th>\n",
              "      <th>Numeric Wage</th>\n",
              "      <th>Numeric Value</th>\n",
              "      <th>Numeric Release Clause</th>\n",
              "    </tr>\n",
              "  </thead>\n",
              "  <tbody>\n",
              "    <tr>\n",
              "      <th>Age</th>\n",
              "      <td>1.000000</td>\n",
              "      <td>0.464977</td>\n",
              "      <td>-0.236762</td>\n",
              "      <td>0.250947</td>\n",
              "      <td>0.065577</td>\n",
              "      <td>0.036189</td>\n",
              "      <td>0.137798</td>\n",
              "      <td>0.077465</td>\n",
              "      <td>0.153163</td>\n",
              "      <td>0.141588</td>\n",
              "      <td>0.150618</td>\n",
              "      <td>0.018858</td>\n",
              "      <td>0.152318</td>\n",
              "      <td>0.202242</td>\n",
              "      <td>0.187692</td>\n",
              "      <td>0.095874</td>\n",
              "      <td>-0.152913</td>\n",
              "      <td>-0.145548</td>\n",
              "      <td>-0.012920</td>\n",
              "      <td>0.462434</td>\n",
              "      <td>-0.087217</td>\n",
              "      <td>0.165092</td>\n",
              "      <td>0.179978</td>\n",
              "      <td>0.103525</td>\n",
              "      <td>0.340691</td>\n",
              "      <td>0.164493</td>\n",
              "      <td>0.269639</td>\n",
              "      <td>0.200477</td>\n",
              "      <td>0.091769</td>\n",
              "      <td>0.199103</td>\n",
              "      <td>0.147641</td>\n",
              "      <td>0.402007</td>\n",
              "      <td>0.145740</td>\n",
              "      <td>0.121925</td>\n",
              "      <td>0.104952</td>\n",
              "      <td>0.085158</td>\n",
              "      <td>0.232396</td>\n",
              "      <td>0.148525</td>\n",
              "      <td>0.076475</td>\n",
              "      <td>0.060760</td>\n",
              "    </tr>\n",
              "    <tr>\n",
              "      <th>Overall</th>\n",
              "      <td>0.464977</td>\n",
              "      <td>1.000000</td>\n",
              "      <td>0.663346</td>\n",
              "      <td>0.503630</td>\n",
              "      <td>0.210808</td>\n",
              "      <td>0.415560</td>\n",
              "      <td>0.398492</td>\n",
              "      <td>0.334448</td>\n",
              "      <td>0.345059</td>\n",
              "      <td>0.505268</td>\n",
              "      <td>0.391214</td>\n",
              "      <td>0.374334</td>\n",
              "      <td>0.420926</td>\n",
              "      <td>0.399858</td>\n",
              "      <td>0.489228</td>\n",
              "      <td>0.463372</td>\n",
              "      <td>0.199305</td>\n",
              "      <td>0.214794</td>\n",
              "      <td>0.267600</td>\n",
              "      <td>0.853842</td>\n",
              "      <td>0.105932</td>\n",
              "      <td>0.442986</td>\n",
              "      <td>0.268187</td>\n",
              "      <td>0.370981</td>\n",
              "      <td>0.357173</td>\n",
              "      <td>0.422167</td>\n",
              "      <td>0.403751</td>\n",
              "      <td>0.331361</td>\n",
              "      <td>0.358573</td>\n",
              "      <td>0.504292</td>\n",
              "      <td>0.343873</td>\n",
              "      <td>0.732752</td>\n",
              "      <td>0.294234</td>\n",
              "      <td>0.261570</td>\n",
              "      <td>0.231717</td>\n",
              "      <td>0.038439</td>\n",
              "      <td>0.154207</td>\n",
              "      <td>0.573896</td>\n",
              "      <td>0.629198</td>\n",
              "      <td>0.616422</td>\n",
              "    </tr>\n",
              "    <tr>\n",
              "      <th>Potential</th>\n",
              "      <td>-0.236762</td>\n",
              "      <td>0.663346</td>\n",
              "      <td>1.000000</td>\n",
              "      <td>0.386085</td>\n",
              "      <td>0.157624</td>\n",
              "      <td>0.352585</td>\n",
              "      <td>0.247693</td>\n",
              "      <td>0.241756</td>\n",
              "      <td>0.203994</td>\n",
              "      <td>0.370710</td>\n",
              "      <td>0.253330</td>\n",
              "      <td>0.313638</td>\n",
              "      <td>0.278592</td>\n",
              "      <td>0.230568</td>\n",
              "      <td>0.327245</td>\n",
              "      <td>0.353529</td>\n",
              "      <td>0.235132</td>\n",
              "      <td>0.238926</td>\n",
              "      <td>0.223028</td>\n",
              "      <td>0.520090</td>\n",
              "      <td>0.140546</td>\n",
              "      <td>0.287914</td>\n",
              "      <td>0.114709</td>\n",
              "      <td>0.206223</td>\n",
              "      <td>0.079672</td>\n",
              "      <td>0.264707</td>\n",
              "      <td>0.179300</td>\n",
              "      <td>0.165053</td>\n",
              "      <td>0.244583</td>\n",
              "      <td>0.350059</td>\n",
              "      <td>0.223848</td>\n",
              "      <td>0.444690</td>\n",
              "      <td>0.169212</td>\n",
              "      <td>0.151542</td>\n",
              "      <td>0.137164</td>\n",
              "      <td>-0.012609</td>\n",
              "      <td>-0.008595</td>\n",
              "      <td>0.490633</td>\n",
              "      <td>0.585352</td>\n",
              "      <td>0.586751</td>\n",
              "    </tr>\n",
              "    <tr>\n",
              "      <th>International Reputation</th>\n",
              "      <td>0.250947</td>\n",
              "      <td>0.503630</td>\n",
              "      <td>0.386085</td>\n",
              "      <td>1.000000</td>\n",
              "      <td>0.126812</td>\n",
              "      <td>0.209651</td>\n",
              "      <td>0.193627</td>\n",
              "      <td>0.179614</td>\n",
              "      <td>0.158696</td>\n",
              "      <td>0.245921</td>\n",
              "      <td>0.242843</td>\n",
              "      <td>0.180835</td>\n",
              "      <td>0.234600</td>\n",
              "      <td>0.225822</td>\n",
              "      <td>0.242276</td>\n",
              "      <td>0.220597</td>\n",
              "      <td>0.047495</td>\n",
              "      <td>0.047942</td>\n",
              "      <td>0.102356</td>\n",
              "      <td>0.450000</td>\n",
              "      <td>0.052525</td>\n",
              "      <td>0.227668</td>\n",
              "      <td>0.121405</td>\n",
              "      <td>0.096302</td>\n",
              "      <td>0.130376</td>\n",
              "      <td>0.214340</td>\n",
              "      <td>0.173240</td>\n",
              "      <td>0.132127</td>\n",
              "      <td>0.183849</td>\n",
              "      <td>0.287385</td>\n",
              "      <td>0.219858</td>\n",
              "      <td>0.395953</td>\n",
              "      <td>0.118136</td>\n",
              "      <td>0.095872</td>\n",
              "      <td>0.082258</td>\n",
              "      <td>0.034526</td>\n",
              "      <td>0.086367</td>\n",
              "      <td>0.677923</td>\n",
              "      <td>0.657724</td>\n",
              "      <td>0.641156</td>\n",
              "    </tr>\n",
              "    <tr>\n",
              "      <th>Weak Foot</th>\n",
              "      <td>0.065577</td>\n",
              "      <td>0.210808</td>\n",
              "      <td>0.157624</td>\n",
              "      <td>0.126812</td>\n",
              "      <td>1.000000</td>\n",
              "      <td>0.337303</td>\n",
              "      <td>0.309577</td>\n",
              "      <td>0.356841</td>\n",
              "      <td>0.184957</td>\n",
              "      <td>0.322173</td>\n",
              "      <td>0.355597</td>\n",
              "      <td>0.351917</td>\n",
              "      <td>0.344953</td>\n",
              "      <td>0.331106</td>\n",
              "      <td>0.279955</td>\n",
              "      <td>0.356028</td>\n",
              "      <td>0.259517</td>\n",
              "      <td>0.248468</td>\n",
              "      <td>0.300683</td>\n",
              "      <td>0.201231</td>\n",
              "      <td>0.255033</td>\n",
              "      <td>0.332158</td>\n",
              "      <td>0.074735</td>\n",
              "      <td>0.235869</td>\n",
              "      <td>-0.004932</td>\n",
              "      <td>0.355656</td>\n",
              "      <td>0.137136</td>\n",
              "      <td>0.061701</td>\n",
              "      <td>0.346512</td>\n",
              "      <td>0.337864</td>\n",
              "      <td>0.330332</td>\n",
              "      <td>0.277838</td>\n",
              "      <td>0.073399</td>\n",
              "      <td>0.050211</td>\n",
              "      <td>0.034022</td>\n",
              "      <td>-0.175299</td>\n",
              "      <td>-0.130922</td>\n",
              "      <td>0.138816</td>\n",
              "      <td>0.165056</td>\n",
              "      <td>0.160216</td>\n",
              "    </tr>\n",
              "    <tr>\n",
              "      <th>Skill Moves</th>\n",
              "      <td>0.036189</td>\n",
              "      <td>0.415560</td>\n",
              "      <td>0.352585</td>\n",
              "      <td>0.209651</td>\n",
              "      <td>0.337303</td>\n",
              "      <td>1.000000</td>\n",
              "      <td>0.743674</td>\n",
              "      <td>0.745535</td>\n",
              "      <td>0.449777</td>\n",
              "      <td>0.732610</td>\n",
              "      <td>0.746674</td>\n",
              "      <td>0.839456</td>\n",
              "      <td>0.771080</td>\n",
              "      <td>0.703304</td>\n",
              "      <td>0.627333</td>\n",
              "      <td>0.818399</td>\n",
              "      <td>0.654951</td>\n",
              "      <td>0.625962</td>\n",
              "      <td>0.682020</td>\n",
              "      <td>0.381196</td>\n",
              "      <td>0.584060</td>\n",
              "      <td>0.718854</td>\n",
              "      <td>0.116235</td>\n",
              "      <td>0.578120</td>\n",
              "      <td>-0.035022</td>\n",
              "      <td>0.753363</td>\n",
              "      <td>0.360201</td>\n",
              "      <td>0.223722</td>\n",
              "      <td>0.783255</td>\n",
              "      <td>0.674503</td>\n",
              "      <td>0.692802</td>\n",
              "      <td>0.587890</td>\n",
              "      <td>0.251671</td>\n",
              "      <td>0.223665</td>\n",
              "      <td>0.191282</td>\n",
              "      <td>-0.425553</td>\n",
              "      <td>-0.353487</td>\n",
              "      <td>0.259534</td>\n",
              "      <td>0.316869</td>\n",
              "      <td>0.310851</td>\n",
              "    </tr>\n",
              "    <tr>\n",
              "      <th>Crossing</th>\n",
              "      <td>0.137798</td>\n",
              "      <td>0.398492</td>\n",
              "      <td>0.247693</td>\n",
              "      <td>0.193627</td>\n",
              "      <td>0.309577</td>\n",
              "      <td>0.743674</td>\n",
              "      <td>1.000000</td>\n",
              "      <td>0.661372</td>\n",
              "      <td>0.478073</td>\n",
              "      <td>0.811918</td>\n",
              "      <td>0.695056</td>\n",
              "      <td>0.858741</td>\n",
              "      <td>0.836838</td>\n",
              "      <td>0.764205</td>\n",
              "      <td>0.759966</td>\n",
              "      <td>0.843869</td>\n",
              "      <td>0.669802</td>\n",
              "      <td>0.646966</td>\n",
              "      <td>0.698304</td>\n",
              "      <td>0.393287</td>\n",
              "      <td>0.621235</td>\n",
              "      <td>0.710364</td>\n",
              "      <td>0.143443</td>\n",
              "      <td>0.677847</td>\n",
              "      <td>-0.019933</td>\n",
              "      <td>0.745514</td>\n",
              "      <td>0.484101</td>\n",
              "      <td>0.437669</td>\n",
              "      <td>0.786687</td>\n",
              "      <td>0.685770</td>\n",
              "      <td>0.651501</td>\n",
              "      <td>0.580091</td>\n",
              "      <td>0.451752</td>\n",
              "      <td>0.438329</td>\n",
              "      <td>0.419353</td>\n",
              "      <td>-0.486074</td>\n",
              "      <td>-0.392943</td>\n",
              "      <td>0.233186</td>\n",
              "      <td>0.250717</td>\n",
              "      <td>0.244777</td>\n",
              "    </tr>\n",
              "    <tr>\n",
              "      <th>Finishing</th>\n",
              "      <td>0.077465</td>\n",
              "      <td>0.334448</td>\n",
              "      <td>0.241756</td>\n",
              "      <td>0.179614</td>\n",
              "      <td>0.356841</td>\n",
              "      <td>0.745535</td>\n",
              "      <td>0.661372</td>\n",
              "      <td>1.000000</td>\n",
              "      <td>0.478874</td>\n",
              "      <td>0.665910</td>\n",
              "      <td>0.884151</td>\n",
              "      <td>0.826032</td>\n",
              "      <td>0.762087</td>\n",
              "      <td>0.702047</td>\n",
              "      <td>0.522084</td>\n",
              "      <td>0.790452</td>\n",
              "      <td>0.608697</td>\n",
              "      <td>0.595016</td>\n",
              "      <td>0.645669</td>\n",
              "      <td>0.336146</td>\n",
              "      <td>0.530715</td>\n",
              "      <td>0.816278</td>\n",
              "      <td>0.101422</td>\n",
              "      <td>0.518701</td>\n",
              "      <td>-0.007098</td>\n",
              "      <td>0.878832</td>\n",
              "      <td>0.258897</td>\n",
              "      <td>-0.003159</td>\n",
              "      <td>0.889549</td>\n",
              "      <td>0.699471</td>\n",
              "      <td>0.838646</td>\n",
              "      <td>0.536532</td>\n",
              "      <td>0.040272</td>\n",
              "      <td>-0.015430</td>\n",
              "      <td>-0.054623</td>\n",
              "      <td>-0.374904</td>\n",
              "      <td>-0.296860</td>\n",
              "      <td>0.214712</td>\n",
              "      <td>0.257484</td>\n",
              "      <td>0.251352</td>\n",
              "    </tr>\n",
              "    <tr>\n",
              "      <th>HeadingAccuracy</th>\n",
              "      <td>0.153163</td>\n",
              "      <td>0.345059</td>\n",
              "      <td>0.203994</td>\n",
              "      <td>0.158696</td>\n",
              "      <td>0.184957</td>\n",
              "      <td>0.449777</td>\n",
              "      <td>0.478073</td>\n",
              "      <td>0.478874</td>\n",
              "      <td>1.000000</td>\n",
              "      <td>0.646504</td>\n",
              "      <td>0.510079</td>\n",
              "      <td>0.556945</td>\n",
              "      <td>0.448412</td>\n",
              "      <td>0.416551</td>\n",
              "      <td>0.522361</td>\n",
              "      <td>0.664512</td>\n",
              "      <td>0.337106</td>\n",
              "      <td>0.385233</td>\n",
              "      <td>0.266857</td>\n",
              "      <td>0.331513</td>\n",
              "      <td>0.179555</td>\n",
              "      <td>0.617799</td>\n",
              "      <td>0.379563</td>\n",
              "      <td>0.639715</td>\n",
              "      <td>0.487480</td>\n",
              "      <td>0.513623</td>\n",
              "      <td>0.701935</td>\n",
              "      <td>0.559917</td>\n",
              "      <td>0.538953</td>\n",
              "      <td>0.283011</td>\n",
              "      <td>0.556490</td>\n",
              "      <td>0.514121</td>\n",
              "      <td>0.593502</td>\n",
              "      <td>0.572365</td>\n",
              "      <td>0.545406</td>\n",
              "      <td>0.005269</td>\n",
              "      <td>0.030503</td>\n",
              "      <td>0.189772</td>\n",
              "      <td>0.186386</td>\n",
              "      <td>0.180935</td>\n",
              "    </tr>\n",
              "    <tr>\n",
              "      <th>ShortPassing</th>\n",
              "      <td>0.141588</td>\n",
              "      <td>0.505268</td>\n",
              "      <td>0.370710</td>\n",
              "      <td>0.245921</td>\n",
              "      <td>0.322173</td>\n",
              "      <td>0.732610</td>\n",
              "      <td>0.811918</td>\n",
              "      <td>0.665910</td>\n",
              "      <td>0.646504</td>\n",
              "      <td>1.000000</td>\n",
              "      <td>0.701079</td>\n",
              "      <td>0.845351</td>\n",
              "      <td>0.777963</td>\n",
              "      <td>0.739458</td>\n",
              "      <td>0.898425</td>\n",
              "      <td>0.913228</td>\n",
              "      <td>0.569659</td>\n",
              "      <td>0.558986</td>\n",
              "      <td>0.614034</td>\n",
              "      <td>0.487704</td>\n",
              "      <td>0.537325</td>\n",
              "      <td>0.773848</td>\n",
              "      <td>0.204825</td>\n",
              "      <td>0.721193</td>\n",
              "      <td>0.141478</td>\n",
              "      <td>0.763411</td>\n",
              "      <td>0.620576</td>\n",
              "      <td>0.554089</td>\n",
              "      <td>0.760471</td>\n",
              "      <td>0.713841</td>\n",
              "      <td>0.680843</td>\n",
              "      <td>0.689098</td>\n",
              "      <td>0.568332</td>\n",
              "      <td>0.551315</td>\n",
              "      <td>0.519139</td>\n",
              "      <td>-0.367600</td>\n",
              "      <td>-0.292397</td>\n",
              "      <td>0.297145</td>\n",
              "      <td>0.329482</td>\n",
              "      <td>0.322969</td>\n",
              "    </tr>\n",
              "    <tr>\n",
              "      <th>Volleys</th>\n",
              "      <td>0.150618</td>\n",
              "      <td>0.391214</td>\n",
              "      <td>0.253330</td>\n",
              "      <td>0.242843</td>\n",
              "      <td>0.355597</td>\n",
              "      <td>0.746674</td>\n",
              "      <td>0.695056</td>\n",
              "      <td>0.884151</td>\n",
              "      <td>0.510079</td>\n",
              "      <td>0.701079</td>\n",
              "      <td>1.000000</td>\n",
              "      <td>0.811014</td>\n",
              "      <td>0.808980</td>\n",
              "      <td>0.753243</td>\n",
              "      <td>0.578453</td>\n",
              "      <td>0.795993</td>\n",
              "      <td>0.575709</td>\n",
              "      <td>0.559775</td>\n",
              "      <td>0.627226</td>\n",
              "      <td>0.396475</td>\n",
              "      <td>0.521225</td>\n",
              "      <td>0.832397</td>\n",
              "      <td>0.130074</td>\n",
              "      <td>0.532426</td>\n",
              "      <td>0.031025</td>\n",
              "      <td>0.869062</td>\n",
              "      <td>0.342010</td>\n",
              "      <td>0.103002</td>\n",
              "      <td>0.848994</td>\n",
              "      <td>0.701536</td>\n",
              "      <td>0.831361</td>\n",
              "      <td>0.597035</td>\n",
              "      <td>0.133440</td>\n",
              "      <td>0.087497</td>\n",
              "      <td>0.049783</td>\n",
              "      <td>-0.354826</td>\n",
              "      <td>-0.267489</td>\n",
              "      <td>0.253542</td>\n",
              "      <td>0.286891</td>\n",
              "      <td>0.277077</td>\n",
              "    </tr>\n",
              "    <tr>\n",
              "      <th>Dribbling</th>\n",
              "      <td>0.018858</td>\n",
              "      <td>0.374334</td>\n",
              "      <td>0.313638</td>\n",
              "      <td>0.180835</td>\n",
              "      <td>0.351917</td>\n",
              "      <td>0.839456</td>\n",
              "      <td>0.858741</td>\n",
              "      <td>0.826032</td>\n",
              "      <td>0.556945</td>\n",
              "      <td>0.845351</td>\n",
              "      <td>0.811014</td>\n",
              "      <td>1.000000</td>\n",
              "      <td>0.844082</td>\n",
              "      <td>0.755665</td>\n",
              "      <td>0.727570</td>\n",
              "      <td>0.938931</td>\n",
              "      <td>0.750845</td>\n",
              "      <td>0.728663</td>\n",
              "      <td>0.765433</td>\n",
              "      <td>0.373124</td>\n",
              "      <td>0.668447</td>\n",
              "      <td>0.805125</td>\n",
              "      <td>0.151099</td>\n",
              "      <td>0.692073</td>\n",
              "      <td>-0.027534</td>\n",
              "      <td>0.843451</td>\n",
              "      <td>0.453951</td>\n",
              "      <td>0.309871</td>\n",
              "      <td>0.897404</td>\n",
              "      <td>0.729677</td>\n",
              "      <td>0.771805</td>\n",
              "      <td>0.600194</td>\n",
              "      <td>0.347937</td>\n",
              "      <td>0.314730</td>\n",
              "      <td>0.287719</td>\n",
              "      <td>-0.496163</td>\n",
              "      <td>-0.416489</td>\n",
              "      <td>0.234484</td>\n",
              "      <td>0.272370</td>\n",
              "      <td>0.266904</td>\n",
              "    </tr>\n",
              "    <tr>\n",
              "      <th>Curve</th>\n",
              "      <td>0.152318</td>\n",
              "      <td>0.420926</td>\n",
              "      <td>0.278592</td>\n",
              "      <td>0.234600</td>\n",
              "      <td>0.344953</td>\n",
              "      <td>0.771080</td>\n",
              "      <td>0.836838</td>\n",
              "      <td>0.762087</td>\n",
              "      <td>0.448412</td>\n",
              "      <td>0.777963</td>\n",
              "      <td>0.808980</td>\n",
              "      <td>0.844082</td>\n",
              "      <td>1.000000</td>\n",
              "      <td>0.863276</td>\n",
              "      <td>0.716083</td>\n",
              "      <td>0.831574</td>\n",
              "      <td>0.610523</td>\n",
              "      <td>0.581812</td>\n",
              "      <td>0.683144</td>\n",
              "      <td>0.416928</td>\n",
              "      <td>0.592044</td>\n",
              "      <td>0.792848</td>\n",
              "      <td>0.119202</td>\n",
              "      <td>0.596550</td>\n",
              "      <td>-0.030837</td>\n",
              "      <td>0.835905</td>\n",
              "      <td>0.411342</td>\n",
              "      <td>0.287067</td>\n",
              "      <td>0.812978</td>\n",
              "      <td>0.744909</td>\n",
              "      <td>0.754538</td>\n",
              "      <td>0.618289</td>\n",
              "      <td>0.301957</td>\n",
              "      <td>0.275248</td>\n",
              "      <td>0.246535</td>\n",
              "      <td>-0.444006</td>\n",
              "      <td>-0.348117</td>\n",
              "      <td>0.257213</td>\n",
              "      <td>0.286874</td>\n",
              "      <td>0.279425</td>\n",
              "    </tr>\n",
              "    <tr>\n",
              "      <th>FKAccuracy</th>\n",
              "      <td>0.202242</td>\n",
              "      <td>0.399858</td>\n",
              "      <td>0.230568</td>\n",
              "      <td>0.225822</td>\n",
              "      <td>0.331106</td>\n",
              "      <td>0.703304</td>\n",
              "      <td>0.764205</td>\n",
              "      <td>0.702047</td>\n",
              "      <td>0.416551</td>\n",
              "      <td>0.739458</td>\n",
              "      <td>0.753243</td>\n",
              "      <td>0.755665</td>\n",
              "      <td>0.863276</td>\n",
              "      <td>1.000000</td>\n",
              "      <td>0.708484</td>\n",
              "      <td>0.762308</td>\n",
              "      <td>0.500741</td>\n",
              "      <td>0.469757</td>\n",
              "      <td>0.590667</td>\n",
              "      <td>0.402410</td>\n",
              "      <td>0.524035</td>\n",
              "      <td>0.757104</td>\n",
              "      <td>0.089285</td>\n",
              "      <td>0.543147</td>\n",
              "      <td>-0.010230</td>\n",
              "      <td>0.805321</td>\n",
              "      <td>0.408753</td>\n",
              "      <td>0.307627</td>\n",
              "      <td>0.732965</td>\n",
              "      <td>0.718973</td>\n",
              "      <td>0.738731</td>\n",
              "      <td>0.589103</td>\n",
              "      <td>0.308319</td>\n",
              "      <td>0.291427</td>\n",
              "      <td>0.259644</td>\n",
              "      <td>-0.404548</td>\n",
              "      <td>-0.305057</td>\n",
              "      <td>0.236119</td>\n",
              "      <td>0.265725</td>\n",
              "      <td>0.257184</td>\n",
              "    </tr>\n",
              "    <tr>\n",
              "      <th>LongPassing</th>\n",
              "      <td>0.187692</td>\n",
              "      <td>0.489228</td>\n",
              "      <td>0.327245</td>\n",
              "      <td>0.242276</td>\n",
              "      <td>0.279955</td>\n",
              "      <td>0.627333</td>\n",
              "      <td>0.759966</td>\n",
              "      <td>0.522084</td>\n",
              "      <td>0.522361</td>\n",
              "      <td>0.898425</td>\n",
              "      <td>0.578453</td>\n",
              "      <td>0.727570</td>\n",
              "      <td>0.716083</td>\n",
              "      <td>0.708484</td>\n",
              "      <td>1.000000</td>\n",
              "      <td>0.794755</td>\n",
              "      <td>0.448043</td>\n",
              "      <td>0.432942</td>\n",
              "      <td>0.525484</td>\n",
              "      <td>0.466580</td>\n",
              "      <td>0.464800</td>\n",
              "      <td>0.678557</td>\n",
              "      <td>0.162019</td>\n",
              "      <td>0.640856</td>\n",
              "      <td>0.125885</td>\n",
              "      <td>0.673918</td>\n",
              "      <td>0.598257</td>\n",
              "      <td>0.603520</td>\n",
              "      <td>0.622077</td>\n",
              "      <td>0.700307</td>\n",
              "      <td>0.552346</td>\n",
              "      <td>0.651396</td>\n",
              "      <td>0.593247</td>\n",
              "      <td>0.593848</td>\n",
              "      <td>0.568394</td>\n",
              "      <td>-0.328849</td>\n",
              "      <td>-0.259579</td>\n",
              "      <td>0.280609</td>\n",
              "      <td>0.306205</td>\n",
              "      <td>0.299085</td>\n",
              "    </tr>\n",
              "    <tr>\n",
              "      <th>BallControl</th>\n",
              "      <td>0.095874</td>\n",
              "      <td>0.463372</td>\n",
              "      <td>0.353529</td>\n",
              "      <td>0.220597</td>\n",
              "      <td>0.356028</td>\n",
              "      <td>0.818399</td>\n",
              "      <td>0.843869</td>\n",
              "      <td>0.790452</td>\n",
              "      <td>0.664512</td>\n",
              "      <td>0.913228</td>\n",
              "      <td>0.795993</td>\n",
              "      <td>0.938931</td>\n",
              "      <td>0.831574</td>\n",
              "      <td>0.762308</td>\n",
              "      <td>0.794755</td>\n",
              "      <td>1.000000</td>\n",
              "      <td>0.678759</td>\n",
              "      <td>0.666803</td>\n",
              "      <td>0.705365</td>\n",
              "      <td>0.448878</td>\n",
              "      <td>0.606300</td>\n",
              "      <td>0.832704</td>\n",
              "      <td>0.203426</td>\n",
              "      <td>0.734443</td>\n",
              "      <td>0.095173</td>\n",
              "      <td>0.836316</td>\n",
              "      <td>0.562603</td>\n",
              "      <td>0.433299</td>\n",
              "      <td>0.864896</td>\n",
              "      <td>0.718828</td>\n",
              "      <td>0.772854</td>\n",
              "      <td>0.678552</td>\n",
              "      <td>0.465384</td>\n",
              "      <td>0.431867</td>\n",
              "      <td>0.399297</td>\n",
              "      <td>-0.419302</td>\n",
              "      <td>-0.340096</td>\n",
              "      <td>0.275948</td>\n",
              "      <td>0.309744</td>\n",
              "      <td>0.303172</td>\n",
              "    </tr>\n",
              "    <tr>\n",
              "      <th>Acceleration</th>\n",
              "      <td>-0.152913</td>\n",
              "      <td>0.199305</td>\n",
              "      <td>0.235132</td>\n",
              "      <td>0.047495</td>\n",
              "      <td>0.259517</td>\n",
              "      <td>0.654951</td>\n",
              "      <td>0.669802</td>\n",
              "      <td>0.608697</td>\n",
              "      <td>0.337106</td>\n",
              "      <td>0.569659</td>\n",
              "      <td>0.575709</td>\n",
              "      <td>0.750845</td>\n",
              "      <td>0.610523</td>\n",
              "      <td>0.500741</td>\n",
              "      <td>0.448043</td>\n",
              "      <td>0.678759</td>\n",
              "      <td>1.000000</td>\n",
              "      <td>0.922223</td>\n",
              "      <td>0.810123</td>\n",
              "      <td>0.192267</td>\n",
              "      <td>0.713993</td>\n",
              "      <td>0.542380</td>\n",
              "      <td>0.223767</td>\n",
              "      <td>0.612358</td>\n",
              "      <td>-0.162558</td>\n",
              "      <td>0.581311</td>\n",
              "      <td>0.261067</td>\n",
              "      <td>0.163896</td>\n",
              "      <td>0.684363</td>\n",
              "      <td>0.461984</td>\n",
              "      <td>0.535998</td>\n",
              "      <td>0.350302</td>\n",
              "      <td>0.207186</td>\n",
              "      <td>0.174284</td>\n",
              "      <td>0.169129</td>\n",
              "      <td>-0.546905</td>\n",
              "      <td>-0.479606</td>\n",
              "      <td>0.125054</td>\n",
              "      <td>0.173143</td>\n",
              "      <td>0.170377</td>\n",
              "    </tr>\n",
              "    <tr>\n",
              "      <th>SprintSpeed</th>\n",
              "      <td>-0.145548</td>\n",
              "      <td>0.214794</td>\n",
              "      <td>0.238926</td>\n",
              "      <td>0.047942</td>\n",
              "      <td>0.248468</td>\n",
              "      <td>0.625962</td>\n",
              "      <td>0.646966</td>\n",
              "      <td>0.595016</td>\n",
              "      <td>0.385233</td>\n",
              "      <td>0.558986</td>\n",
              "      <td>0.559775</td>\n",
              "      <td>0.728663</td>\n",
              "      <td>0.581812</td>\n",
              "      <td>0.469757</td>\n",
              "      <td>0.432942</td>\n",
              "      <td>0.666803</td>\n",
              "      <td>0.922223</td>\n",
              "      <td>1.000000</td>\n",
              "      <td>0.763861</td>\n",
              "      <td>0.197039</td>\n",
              "      <td>0.647458</td>\n",
              "      <td>0.546151</td>\n",
              "      <td>0.239064</td>\n",
              "      <td>0.624903</td>\n",
              "      <td>-0.080479</td>\n",
              "      <td>0.561832</td>\n",
              "      <td>0.289687</td>\n",
              "      <td>0.176780</td>\n",
              "      <td>0.666071</td>\n",
              "      <td>0.430298</td>\n",
              "      <td>0.523051</td>\n",
              "      <td>0.355693</td>\n",
              "      <td>0.224551</td>\n",
              "      <td>0.190515</td>\n",
              "      <td>0.184497</td>\n",
              "      <td>-0.467533</td>\n",
              "      <td>-0.413392</td>\n",
              "      <td>0.130590</td>\n",
              "      <td>0.175917</td>\n",
              "      <td>0.172990</td>\n",
              "    </tr>\n",
              "    <tr>\n",
              "      <th>Agility</th>\n",
              "      <td>-0.012920</td>\n",
              "      <td>0.267600</td>\n",
              "      <td>0.223028</td>\n",
              "      <td>0.102356</td>\n",
              "      <td>0.300683</td>\n",
              "      <td>0.682020</td>\n",
              "      <td>0.698304</td>\n",
              "      <td>0.645669</td>\n",
              "      <td>0.266857</td>\n",
              "      <td>0.614034</td>\n",
              "      <td>0.627226</td>\n",
              "      <td>0.765433</td>\n",
              "      <td>0.683144</td>\n",
              "      <td>0.590667</td>\n",
              "      <td>0.525484</td>\n",
              "      <td>0.705365</td>\n",
              "      <td>0.810123</td>\n",
              "      <td>0.763861</td>\n",
              "      <td>1.000000</td>\n",
              "      <td>0.278760</td>\n",
              "      <td>0.771252</td>\n",
              "      <td>0.574520</td>\n",
              "      <td>0.224288</td>\n",
              "      <td>0.573498</td>\n",
              "      <td>-0.228028</td>\n",
              "      <td>0.644889</td>\n",
              "      <td>0.251226</td>\n",
              "      <td>0.149412</td>\n",
              "      <td>0.709440</td>\n",
              "      <td>0.596996</td>\n",
              "      <td>0.567734</td>\n",
              "      <td>0.433550</td>\n",
              "      <td>0.177251</td>\n",
              "      <td>0.139099</td>\n",
              "      <td>0.126886</td>\n",
              "      <td>-0.620832</td>\n",
              "      <td>-0.533707</td>\n",
              "      <td>0.154808</td>\n",
              "      <td>0.195556</td>\n",
              "      <td>0.190271</td>\n",
              "    </tr>\n",
              "    <tr>\n",
              "      <th>Reactions</th>\n",
              "      <td>0.462434</td>\n",
              "      <td>0.853842</td>\n",
              "      <td>0.520090</td>\n",
              "      <td>0.450000</td>\n",
              "      <td>0.201231</td>\n",
              "      <td>0.381196</td>\n",
              "      <td>0.393287</td>\n",
              "      <td>0.336146</td>\n",
              "      <td>0.331513</td>\n",
              "      <td>0.487704</td>\n",
              "      <td>0.396475</td>\n",
              "      <td>0.373124</td>\n",
              "      <td>0.416928</td>\n",
              "      <td>0.402410</td>\n",
              "      <td>0.466580</td>\n",
              "      <td>0.448878</td>\n",
              "      <td>0.192267</td>\n",
              "      <td>0.197039</td>\n",
              "      <td>0.278760</td>\n",
              "      <td>1.000000</td>\n",
              "      <td>0.153777</td>\n",
              "      <td>0.421874</td>\n",
              "      <td>0.257651</td>\n",
              "      <td>0.374514</td>\n",
              "      <td>0.293066</td>\n",
              "      <td>0.424625</td>\n",
              "      <td>0.409270</td>\n",
              "      <td>0.345640</td>\n",
              "      <td>0.390011</td>\n",
              "      <td>0.509133</td>\n",
              "      <td>0.350684</td>\n",
              "      <td>0.692311</td>\n",
              "      <td>0.290113</td>\n",
              "      <td>0.261777</td>\n",
              "      <td>0.234848</td>\n",
              "      <td>-0.020952</td>\n",
              "      <td>0.086070</td>\n",
              "      <td>0.500088</td>\n",
              "      <td>0.544365</td>\n",
              "      <td>0.532099</td>\n",
              "    </tr>\n",
              "    <tr>\n",
              "      <th>Balance</th>\n",
              "      <td>-0.087217</td>\n",
              "      <td>0.105932</td>\n",
              "      <td>0.140546</td>\n",
              "      <td>0.052525</td>\n",
              "      <td>0.255033</td>\n",
              "      <td>0.584060</td>\n",
              "      <td>0.621235</td>\n",
              "      <td>0.530715</td>\n",
              "      <td>0.179555</td>\n",
              "      <td>0.537325</td>\n",
              "      <td>0.521225</td>\n",
              "      <td>0.668447</td>\n",
              "      <td>0.592044</td>\n",
              "      <td>0.524035</td>\n",
              "      <td>0.464800</td>\n",
              "      <td>0.606300</td>\n",
              "      <td>0.713993</td>\n",
              "      <td>0.647458</td>\n",
              "      <td>0.771252</td>\n",
              "      <td>0.153777</td>\n",
              "      <td>1.000000</td>\n",
              "      <td>0.463865</td>\n",
              "      <td>0.198023</td>\n",
              "      <td>0.481076</td>\n",
              "      <td>-0.384360</td>\n",
              "      <td>0.537887</td>\n",
              "      <td>0.193386</td>\n",
              "      <td>0.158671</td>\n",
              "      <td>0.602203</td>\n",
              "      <td>0.491820</td>\n",
              "      <td>0.488556</td>\n",
              "      <td>0.314605</td>\n",
              "      <td>0.187340</td>\n",
              "      <td>0.162110</td>\n",
              "      <td>0.160883</td>\n",
              "      <td>-0.785804</td>\n",
              "      <td>-0.664181</td>\n",
              "      <td>0.089214</td>\n",
              "      <td>0.115613</td>\n",
              "      <td>0.113785</td>\n",
              "    </tr>\n",
              "    <tr>\n",
              "      <th>ShotPower</th>\n",
              "      <td>0.165092</td>\n",
              "      <td>0.442986</td>\n",
              "      <td>0.287914</td>\n",
              "      <td>0.227668</td>\n",
              "      <td>0.332158</td>\n",
              "      <td>0.718854</td>\n",
              "      <td>0.710364</td>\n",
              "      <td>0.816278</td>\n",
              "      <td>0.617799</td>\n",
              "      <td>0.773848</td>\n",
              "      <td>0.832397</td>\n",
              "      <td>0.805125</td>\n",
              "      <td>0.792848</td>\n",
              "      <td>0.757104</td>\n",
              "      <td>0.678557</td>\n",
              "      <td>0.832704</td>\n",
              "      <td>0.542380</td>\n",
              "      <td>0.546151</td>\n",
              "      <td>0.574520</td>\n",
              "      <td>0.421874</td>\n",
              "      <td>0.463865</td>\n",
              "      <td>1.000000</td>\n",
              "      <td>0.189802</td>\n",
              "      <td>0.622249</td>\n",
              "      <td>0.174123</td>\n",
              "      <td>0.889584</td>\n",
              "      <td>0.504416</td>\n",
              "      <td>0.280801</td>\n",
              "      <td>0.809380</td>\n",
              "      <td>0.680611</td>\n",
              "      <td>0.795877</td>\n",
              "      <td>0.636949</td>\n",
              "      <td>0.310925</td>\n",
              "      <td>0.272214</td>\n",
              "      <td>0.235936</td>\n",
              "      <td>-0.295316</td>\n",
              "      <td>-0.194365</td>\n",
              "      <td>0.256182</td>\n",
              "      <td>0.281057</td>\n",
              "      <td>0.272659</td>\n",
              "    </tr>\n",
              "    <tr>\n",
              "      <th>Jumping</th>\n",
              "      <td>0.179978</td>\n",
              "      <td>0.268187</td>\n",
              "      <td>0.114709</td>\n",
              "      <td>0.121405</td>\n",
              "      <td>0.074735</td>\n",
              "      <td>0.116235</td>\n",
              "      <td>0.143443</td>\n",
              "      <td>0.101422</td>\n",
              "      <td>0.379563</td>\n",
              "      <td>0.204825</td>\n",
              "      <td>0.130074</td>\n",
              "      <td>0.151099</td>\n",
              "      <td>0.119202</td>\n",
              "      <td>0.089285</td>\n",
              "      <td>0.162019</td>\n",
              "      <td>0.203426</td>\n",
              "      <td>0.223767</td>\n",
              "      <td>0.239064</td>\n",
              "      <td>0.224288</td>\n",
              "      <td>0.257651</td>\n",
              "      <td>0.198023</td>\n",
              "      <td>0.189802</td>\n",
              "      <td>1.000000</td>\n",
              "      <td>0.349287</td>\n",
              "      <td>0.276875</td>\n",
              "      <td>0.141478</td>\n",
              "      <td>0.375533</td>\n",
              "      <td>0.294151</td>\n",
              "      <td>0.149650</td>\n",
              "      <td>0.067179</td>\n",
              "      <td>0.136772</td>\n",
              "      <td>0.257769</td>\n",
              "      <td>0.286397</td>\n",
              "      <td>0.266121</td>\n",
              "      <td>0.266646</td>\n",
              "      <td>-0.074666</td>\n",
              "      <td>0.002016</td>\n",
              "      <td>0.131035</td>\n",
              "      <td>0.125983</td>\n",
              "      <td>0.120461</td>\n",
              "    </tr>\n",
              "    <tr>\n",
              "      <th>Stamina</th>\n",
              "      <td>0.103525</td>\n",
              "      <td>0.370981</td>\n",
              "      <td>0.206223</td>\n",
              "      <td>0.096302</td>\n",
              "      <td>0.235869</td>\n",
              "      <td>0.578120</td>\n",
              "      <td>0.677847</td>\n",
              "      <td>0.518701</td>\n",
              "      <td>0.639715</td>\n",
              "      <td>0.721193</td>\n",
              "      <td>0.532426</td>\n",
              "      <td>0.692073</td>\n",
              "      <td>0.596550</td>\n",
              "      <td>0.543147</td>\n",
              "      <td>0.640856</td>\n",
              "      <td>0.734443</td>\n",
              "      <td>0.612358</td>\n",
              "      <td>0.624903</td>\n",
              "      <td>0.573498</td>\n",
              "      <td>0.374514</td>\n",
              "      <td>0.481076</td>\n",
              "      <td>0.622249</td>\n",
              "      <td>0.349287</td>\n",
              "      <td>1.000000</td>\n",
              "      <td>0.266652</td>\n",
              "      <td>0.601352</td>\n",
              "      <td>0.652519</td>\n",
              "      <td>0.584093</td>\n",
              "      <td>0.647115</td>\n",
              "      <td>0.476661</td>\n",
              "      <td>0.521976</td>\n",
              "      <td>0.529573</td>\n",
              "      <td>0.596222</td>\n",
              "      <td>0.577979</td>\n",
              "      <td>0.552659</td>\n",
              "      <td>-0.290577</td>\n",
              "      <td>-0.225622</td>\n",
              "      <td>0.181262</td>\n",
              "      <td>0.214108</td>\n",
              "      <td>0.206093</td>\n",
              "    </tr>\n",
              "    <tr>\n",
              "      <th>Strength</th>\n",
              "      <td>0.340691</td>\n",
              "      <td>0.357173</td>\n",
              "      <td>0.079672</td>\n",
              "      <td>0.130376</td>\n",
              "      <td>-0.004932</td>\n",
              "      <td>-0.035022</td>\n",
              "      <td>-0.019933</td>\n",
              "      <td>-0.007098</td>\n",
              "      <td>0.487480</td>\n",
              "      <td>0.141478</td>\n",
              "      <td>0.031025</td>\n",
              "      <td>-0.027534</td>\n",
              "      <td>-0.030837</td>\n",
              "      <td>-0.010230</td>\n",
              "      <td>0.125885</td>\n",
              "      <td>0.095173</td>\n",
              "      <td>-0.162558</td>\n",
              "      <td>-0.080479</td>\n",
              "      <td>-0.228028</td>\n",
              "      <td>0.293066</td>\n",
              "      <td>-0.384360</td>\n",
              "      <td>0.174123</td>\n",
              "      <td>0.276875</td>\n",
              "      <td>0.266652</td>\n",
              "      <td>1.000000</td>\n",
              "      <td>0.056000</td>\n",
              "      <td>0.478295</td>\n",
              "      <td>0.363979</td>\n",
              "      <td>0.011510</td>\n",
              "      <td>-0.038022</td>\n",
              "      <td>0.057852</td>\n",
              "      <td>0.289822</td>\n",
              "      <td>0.340963</td>\n",
              "      <td>0.339640</td>\n",
              "      <td>0.312137</td>\n",
              "      <td>0.533504</td>\n",
              "      <td>0.613220</td>\n",
              "      <td>0.142183</td>\n",
              "      <td>0.130024</td>\n",
              "      <td>0.122656</td>\n",
              "    </tr>\n",
              "    <tr>\n",
              "      <th>LongShots</th>\n",
              "      <td>0.164493</td>\n",
              "      <td>0.422167</td>\n",
              "      <td>0.264707</td>\n",
              "      <td>0.214340</td>\n",
              "      <td>0.355656</td>\n",
              "      <td>0.753363</td>\n",
              "      <td>0.745514</td>\n",
              "      <td>0.878832</td>\n",
              "      <td>0.513623</td>\n",
              "      <td>0.763411</td>\n",
              "      <td>0.869062</td>\n",
              "      <td>0.843451</td>\n",
              "      <td>0.835905</td>\n",
              "      <td>0.805321</td>\n",
              "      <td>0.673918</td>\n",
              "      <td>0.836316</td>\n",
              "      <td>0.581311</td>\n",
              "      <td>0.561832</td>\n",
              "      <td>0.644889</td>\n",
              "      <td>0.424625</td>\n",
              "      <td>0.537887</td>\n",
              "      <td>0.889584</td>\n",
              "      <td>0.141478</td>\n",
              "      <td>0.601352</td>\n",
              "      <td>0.056000</td>\n",
              "      <td>1.000000</td>\n",
              "      <td>0.405779</td>\n",
              "      <td>0.208548</td>\n",
              "      <td>0.861121</td>\n",
              "      <td>0.753722</td>\n",
              "      <td>0.814255</td>\n",
              "      <td>0.618623</td>\n",
              "      <td>0.228610</td>\n",
              "      <td>0.187254</td>\n",
              "      <td>0.148488</td>\n",
              "      <td>-0.383819</td>\n",
              "      <td>-0.280384</td>\n",
              "      <td>0.246352</td>\n",
              "      <td>0.279553</td>\n",
              "      <td>0.271442</td>\n",
              "    </tr>\n",
              "    <tr>\n",
              "      <th>Aggression</th>\n",
              "      <td>0.269639</td>\n",
              "      <td>0.403751</td>\n",
              "      <td>0.179300</td>\n",
              "      <td>0.173240</td>\n",
              "      <td>0.137136</td>\n",
              "      <td>0.360201</td>\n",
              "      <td>0.484101</td>\n",
              "      <td>0.258897</td>\n",
              "      <td>0.701935</td>\n",
              "      <td>0.620576</td>\n",
              "      <td>0.342010</td>\n",
              "      <td>0.453951</td>\n",
              "      <td>0.411342</td>\n",
              "      <td>0.408753</td>\n",
              "      <td>0.598257</td>\n",
              "      <td>0.562603</td>\n",
              "      <td>0.261067</td>\n",
              "      <td>0.289687</td>\n",
              "      <td>0.251226</td>\n",
              "      <td>0.409270</td>\n",
              "      <td>0.193386</td>\n",
              "      <td>0.504416</td>\n",
              "      <td>0.375533</td>\n",
              "      <td>0.652519</td>\n",
              "      <td>0.478295</td>\n",
              "      <td>0.405779</td>\n",
              "      <td>1.000000</td>\n",
              "      <td>0.753249</td>\n",
              "      <td>0.395969</td>\n",
              "      <td>0.309281</td>\n",
              "      <td>0.350523</td>\n",
              "      <td>0.525879</td>\n",
              "      <td>0.726654</td>\n",
              "      <td>0.745905</td>\n",
              "      <td>0.723228</td>\n",
              "      <td>-0.046573</td>\n",
              "      <td>0.028937</td>\n",
              "      <td>0.199014</td>\n",
              "      <td>0.187221</td>\n",
              "      <td>0.180858</td>\n",
              "    </tr>\n",
              "    <tr>\n",
              "      <th>Interceptions</th>\n",
              "      <td>0.200477</td>\n",
              "      <td>0.331361</td>\n",
              "      <td>0.165053</td>\n",
              "      <td>0.132127</td>\n",
              "      <td>0.061701</td>\n",
              "      <td>0.223722</td>\n",
              "      <td>0.437669</td>\n",
              "      <td>-0.003159</td>\n",
              "      <td>0.559917</td>\n",
              "      <td>0.554089</td>\n",
              "      <td>0.103002</td>\n",
              "      <td>0.309871</td>\n",
              "      <td>0.287067</td>\n",
              "      <td>0.307627</td>\n",
              "      <td>0.603520</td>\n",
              "      <td>0.433299</td>\n",
              "      <td>0.163896</td>\n",
              "      <td>0.176780</td>\n",
              "      <td>0.149412</td>\n",
              "      <td>0.345640</td>\n",
              "      <td>0.158671</td>\n",
              "      <td>0.280801</td>\n",
              "      <td>0.294151</td>\n",
              "      <td>0.584093</td>\n",
              "      <td>0.363979</td>\n",
              "      <td>0.208548</td>\n",
              "      <td>0.753249</td>\n",
              "      <td>1.000000</td>\n",
              "      <td>0.187011</td>\n",
              "      <td>0.193146</td>\n",
              "      <td>0.126962</td>\n",
              "      <td>0.409640</td>\n",
              "      <td>0.890835</td>\n",
              "      <td>0.941887</td>\n",
              "      <td>0.929013</td>\n",
              "      <td>-0.052506</td>\n",
              "      <td>-0.026719</td>\n",
              "      <td>0.165484</td>\n",
              "      <td>0.145766</td>\n",
              "      <td>0.142248</td>\n",
              "    </tr>\n",
              "    <tr>\n",
              "      <th>Positioning</th>\n",
              "      <td>0.091769</td>\n",
              "      <td>0.358573</td>\n",
              "      <td>0.244583</td>\n",
              "      <td>0.183849</td>\n",
              "      <td>0.346512</td>\n",
              "      <td>0.783255</td>\n",
              "      <td>0.786687</td>\n",
              "      <td>0.889549</td>\n",
              "      <td>0.538953</td>\n",
              "      <td>0.760471</td>\n",
              "      <td>0.848994</td>\n",
              "      <td>0.897404</td>\n",
              "      <td>0.812978</td>\n",
              "      <td>0.732965</td>\n",
              "      <td>0.622077</td>\n",
              "      <td>0.864896</td>\n",
              "      <td>0.684363</td>\n",
              "      <td>0.666071</td>\n",
              "      <td>0.709440</td>\n",
              "      <td>0.390011</td>\n",
              "      <td>0.602203</td>\n",
              "      <td>0.809380</td>\n",
              "      <td>0.149650</td>\n",
              "      <td>0.647115</td>\n",
              "      <td>0.011510</td>\n",
              "      <td>0.861121</td>\n",
              "      <td>0.395969</td>\n",
              "      <td>0.187011</td>\n",
              "      <td>1.000000</td>\n",
              "      <td>0.734563</td>\n",
              "      <td>0.802324</td>\n",
              "      <td>0.583947</td>\n",
              "      <td>0.216551</td>\n",
              "      <td>0.174078</td>\n",
              "      <td>0.140295</td>\n",
              "      <td>-0.439192</td>\n",
              "      <td>-0.353863</td>\n",
              "      <td>0.224421</td>\n",
              "      <td>0.259387</td>\n",
              "      <td>0.252351</td>\n",
              "    </tr>\n",
              "    <tr>\n",
              "      <th>Vision</th>\n",
              "      <td>0.199103</td>\n",
              "      <td>0.504292</td>\n",
              "      <td>0.350059</td>\n",
              "      <td>0.287385</td>\n",
              "      <td>0.337864</td>\n",
              "      <td>0.674503</td>\n",
              "      <td>0.685770</td>\n",
              "      <td>0.699471</td>\n",
              "      <td>0.283011</td>\n",
              "      <td>0.713841</td>\n",
              "      <td>0.701536</td>\n",
              "      <td>0.729677</td>\n",
              "      <td>0.744909</td>\n",
              "      <td>0.718973</td>\n",
              "      <td>0.700307</td>\n",
              "      <td>0.718828</td>\n",
              "      <td>0.461984</td>\n",
              "      <td>0.430298</td>\n",
              "      <td>0.596996</td>\n",
              "      <td>0.509133</td>\n",
              "      <td>0.491820</td>\n",
              "      <td>0.680611</td>\n",
              "      <td>0.067179</td>\n",
              "      <td>0.476661</td>\n",
              "      <td>-0.038022</td>\n",
              "      <td>0.753722</td>\n",
              "      <td>0.309281</td>\n",
              "      <td>0.193146</td>\n",
              "      <td>0.734563</td>\n",
              "      <td>1.000000</td>\n",
              "      <td>0.635652</td>\n",
              "      <td>0.639455</td>\n",
              "      <td>0.185785</td>\n",
              "      <td>0.155841</td>\n",
              "      <td>0.122524</td>\n",
              "      <td>-0.367185</td>\n",
              "      <td>-0.282125</td>\n",
              "      <td>0.316461</td>\n",
              "      <td>0.360266</td>\n",
              "      <td>0.351472</td>\n",
              "    </tr>\n",
              "    <tr>\n",
              "      <th>Penalties</th>\n",
              "      <td>0.147641</td>\n",
              "      <td>0.343873</td>\n",
              "      <td>0.223848</td>\n",
              "      <td>0.219858</td>\n",
              "      <td>0.330332</td>\n",
              "      <td>0.692802</td>\n",
              "      <td>0.651501</td>\n",
              "      <td>0.838646</td>\n",
              "      <td>0.556490</td>\n",
              "      <td>0.680843</td>\n",
              "      <td>0.831361</td>\n",
              "      <td>0.771805</td>\n",
              "      <td>0.754538</td>\n",
              "      <td>0.738731</td>\n",
              "      <td>0.552346</td>\n",
              "      <td>0.772854</td>\n",
              "      <td>0.535998</td>\n",
              "      <td>0.523051</td>\n",
              "      <td>0.567734</td>\n",
              "      <td>0.350684</td>\n",
              "      <td>0.488556</td>\n",
              "      <td>0.795877</td>\n",
              "      <td>0.136772</td>\n",
              "      <td>0.521976</td>\n",
              "      <td>0.057852</td>\n",
              "      <td>0.814255</td>\n",
              "      <td>0.350523</td>\n",
              "      <td>0.126962</td>\n",
              "      <td>0.802324</td>\n",
              "      <td>0.635652</td>\n",
              "      <td>1.000000</td>\n",
              "      <td>0.555774</td>\n",
              "      <td>0.167203</td>\n",
              "      <td>0.118235</td>\n",
              "      <td>0.082718</td>\n",
              "      <td>-0.343501</td>\n",
              "      <td>-0.255843</td>\n",
              "      <td>0.222491</td>\n",
              "      <td>0.240649</td>\n",
              "      <td>0.232569</td>\n",
              "    </tr>\n",
              "    <tr>\n",
              "      <th>Composure</th>\n",
              "      <td>0.402007</td>\n",
              "      <td>0.732752</td>\n",
              "      <td>0.444690</td>\n",
              "      <td>0.395953</td>\n",
              "      <td>0.277838</td>\n",
              "      <td>0.587890</td>\n",
              "      <td>0.580091</td>\n",
              "      <td>0.536532</td>\n",
              "      <td>0.514121</td>\n",
              "      <td>0.689098</td>\n",
              "      <td>0.597035</td>\n",
              "      <td>0.600194</td>\n",
              "      <td>0.618289</td>\n",
              "      <td>0.589103</td>\n",
              "      <td>0.651396</td>\n",
              "      <td>0.678552</td>\n",
              "      <td>0.350302</td>\n",
              "      <td>0.355693</td>\n",
              "      <td>0.433550</td>\n",
              "      <td>0.692311</td>\n",
              "      <td>0.314605</td>\n",
              "      <td>0.636949</td>\n",
              "      <td>0.257769</td>\n",
              "      <td>0.529573</td>\n",
              "      <td>0.289822</td>\n",
              "      <td>0.618623</td>\n",
              "      <td>0.525879</td>\n",
              "      <td>0.409640</td>\n",
              "      <td>0.583947</td>\n",
              "      <td>0.639455</td>\n",
              "      <td>0.555774</td>\n",
              "      <td>1.000000</td>\n",
              "      <td>0.394428</td>\n",
              "      <td>0.363091</td>\n",
              "      <td>0.328679</td>\n",
              "      <td>-0.137297</td>\n",
              "      <td>-0.034571</td>\n",
              "      <td>0.421709</td>\n",
              "      <td>0.453312</td>\n",
              "      <td>0.441679</td>\n",
              "    </tr>\n",
              "    <tr>\n",
              "      <th>Marking</th>\n",
              "      <td>0.145740</td>\n",
              "      <td>0.294234</td>\n",
              "      <td>0.169212</td>\n",
              "      <td>0.118136</td>\n",
              "      <td>0.073399</td>\n",
              "      <td>0.251671</td>\n",
              "      <td>0.451752</td>\n",
              "      <td>0.040272</td>\n",
              "      <td>0.593502</td>\n",
              "      <td>0.568332</td>\n",
              "      <td>0.133440</td>\n",
              "      <td>0.347937</td>\n",
              "      <td>0.301957</td>\n",
              "      <td>0.308319</td>\n",
              "      <td>0.593247</td>\n",
              "      <td>0.465384</td>\n",
              "      <td>0.207186</td>\n",
              "      <td>0.224551</td>\n",
              "      <td>0.177251</td>\n",
              "      <td>0.290113</td>\n",
              "      <td>0.187340</td>\n",
              "      <td>0.310925</td>\n",
              "      <td>0.286397</td>\n",
              "      <td>0.596222</td>\n",
              "      <td>0.340963</td>\n",
              "      <td>0.228610</td>\n",
              "      <td>0.726654</td>\n",
              "      <td>0.890835</td>\n",
              "      <td>0.216551</td>\n",
              "      <td>0.185785</td>\n",
              "      <td>0.167203</td>\n",
              "      <td>0.394428</td>\n",
              "      <td>1.000000</td>\n",
              "      <td>0.908216</td>\n",
              "      <td>0.897783</td>\n",
              "      <td>-0.077124</td>\n",
              "      <td>-0.050684</td>\n",
              "      <td>0.151515</td>\n",
              "      <td>0.137982</td>\n",
              "      <td>0.134908</td>\n",
              "    </tr>\n",
              "    <tr>\n",
              "      <th>StandingTackle</th>\n",
              "      <td>0.121925</td>\n",
              "      <td>0.261570</td>\n",
              "      <td>0.151542</td>\n",
              "      <td>0.095872</td>\n",
              "      <td>0.050211</td>\n",
              "      <td>0.223665</td>\n",
              "      <td>0.438329</td>\n",
              "      <td>-0.015430</td>\n",
              "      <td>0.572365</td>\n",
              "      <td>0.551315</td>\n",
              "      <td>0.087497</td>\n",
              "      <td>0.314730</td>\n",
              "      <td>0.275248</td>\n",
              "      <td>0.291427</td>\n",
              "      <td>0.593848</td>\n",
              "      <td>0.431867</td>\n",
              "      <td>0.174284</td>\n",
              "      <td>0.190515</td>\n",
              "      <td>0.139099</td>\n",
              "      <td>0.261777</td>\n",
              "      <td>0.162110</td>\n",
              "      <td>0.272214</td>\n",
              "      <td>0.266121</td>\n",
              "      <td>0.577979</td>\n",
              "      <td>0.339640</td>\n",
              "      <td>0.187254</td>\n",
              "      <td>0.745905</td>\n",
              "      <td>0.941887</td>\n",
              "      <td>0.174078</td>\n",
              "      <td>0.155841</td>\n",
              "      <td>0.118235</td>\n",
              "      <td>0.363091</td>\n",
              "      <td>0.908216</td>\n",
              "      <td>1.000000</td>\n",
              "      <td>0.974713</td>\n",
              "      <td>-0.061842</td>\n",
              "      <td>-0.047882</td>\n",
              "      <td>0.133823</td>\n",
              "      <td>0.113479</td>\n",
              "      <td>0.112420</td>\n",
              "    </tr>\n",
              "    <tr>\n",
              "      <th>SlidingTackle</th>\n",
              "      <td>0.104952</td>\n",
              "      <td>0.231717</td>\n",
              "      <td>0.137164</td>\n",
              "      <td>0.082258</td>\n",
              "      <td>0.034022</td>\n",
              "      <td>0.191282</td>\n",
              "      <td>0.419353</td>\n",
              "      <td>-0.054623</td>\n",
              "      <td>0.545406</td>\n",
              "      <td>0.519139</td>\n",
              "      <td>0.049783</td>\n",
              "      <td>0.287719</td>\n",
              "      <td>0.246535</td>\n",
              "      <td>0.259644</td>\n",
              "      <td>0.568394</td>\n",
              "      <td>0.399297</td>\n",
              "      <td>0.169129</td>\n",
              "      <td>0.184497</td>\n",
              "      <td>0.126886</td>\n",
              "      <td>0.234848</td>\n",
              "      <td>0.160883</td>\n",
              "      <td>0.235936</td>\n",
              "      <td>0.266646</td>\n",
              "      <td>0.552659</td>\n",
              "      <td>0.312137</td>\n",
              "      <td>0.148488</td>\n",
              "      <td>0.723228</td>\n",
              "      <td>0.929013</td>\n",
              "      <td>0.140295</td>\n",
              "      <td>0.122524</td>\n",
              "      <td>0.082718</td>\n",
              "      <td>0.328679</td>\n",
              "      <td>0.897783</td>\n",
              "      <td>0.974713</td>\n",
              "      <td>1.000000</td>\n",
              "      <td>-0.069965</td>\n",
              "      <td>-0.057319</td>\n",
              "      <td>0.118737</td>\n",
              "      <td>0.093061</td>\n",
              "      <td>0.092550</td>\n",
              "    </tr>\n",
              "    <tr>\n",
              "      <th>Height (inches)</th>\n",
              "      <td>0.085158</td>\n",
              "      <td>0.038439</td>\n",
              "      <td>-0.012609</td>\n",
              "      <td>0.034526</td>\n",
              "      <td>-0.175299</td>\n",
              "      <td>-0.425553</td>\n",
              "      <td>-0.486074</td>\n",
              "      <td>-0.374904</td>\n",
              "      <td>0.005269</td>\n",
              "      <td>-0.367600</td>\n",
              "      <td>-0.354826</td>\n",
              "      <td>-0.496163</td>\n",
              "      <td>-0.444006</td>\n",
              "      <td>-0.404548</td>\n",
              "      <td>-0.328849</td>\n",
              "      <td>-0.419302</td>\n",
              "      <td>-0.546905</td>\n",
              "      <td>-0.467533</td>\n",
              "      <td>-0.620832</td>\n",
              "      <td>-0.020952</td>\n",
              "      <td>-0.785804</td>\n",
              "      <td>-0.295316</td>\n",
              "      <td>-0.074666</td>\n",
              "      <td>-0.290577</td>\n",
              "      <td>0.533504</td>\n",
              "      <td>-0.383819</td>\n",
              "      <td>-0.046573</td>\n",
              "      <td>-0.052506</td>\n",
              "      <td>-0.439192</td>\n",
              "      <td>-0.367185</td>\n",
              "      <td>-0.343501</td>\n",
              "      <td>-0.137297</td>\n",
              "      <td>-0.077124</td>\n",
              "      <td>-0.061842</td>\n",
              "      <td>-0.069965</td>\n",
              "      <td>1.000000</td>\n",
              "      <td>0.755277</td>\n",
              "      <td>0.020191</td>\n",
              "      <td>0.001850</td>\n",
              "      <td>0.001922</td>\n",
              "    </tr>\n",
              "    <tr>\n",
              "      <th>Weight (lbs)</th>\n",
              "      <td>0.232396</td>\n",
              "      <td>0.154207</td>\n",
              "      <td>-0.008595</td>\n",
              "      <td>0.086367</td>\n",
              "      <td>-0.130922</td>\n",
              "      <td>-0.353487</td>\n",
              "      <td>-0.392943</td>\n",
              "      <td>-0.296860</td>\n",
              "      <td>0.030503</td>\n",
              "      <td>-0.292397</td>\n",
              "      <td>-0.267489</td>\n",
              "      <td>-0.416489</td>\n",
              "      <td>-0.348117</td>\n",
              "      <td>-0.305057</td>\n",
              "      <td>-0.259579</td>\n",
              "      <td>-0.340096</td>\n",
              "      <td>-0.479606</td>\n",
              "      <td>-0.413392</td>\n",
              "      <td>-0.533707</td>\n",
              "      <td>0.086070</td>\n",
              "      <td>-0.664181</td>\n",
              "      <td>-0.194365</td>\n",
              "      <td>0.002016</td>\n",
              "      <td>-0.225622</td>\n",
              "      <td>0.613220</td>\n",
              "      <td>-0.280384</td>\n",
              "      <td>0.028937</td>\n",
              "      <td>-0.026719</td>\n",
              "      <td>-0.353863</td>\n",
              "      <td>-0.282125</td>\n",
              "      <td>-0.255843</td>\n",
              "      <td>-0.034571</td>\n",
              "      <td>-0.050684</td>\n",
              "      <td>-0.047882</td>\n",
              "      <td>-0.057319</td>\n",
              "      <td>0.755277</td>\n",
              "      <td>1.000000</td>\n",
              "      <td>0.065254</td>\n",
              "      <td>0.044114</td>\n",
              "      <td>0.039847</td>\n",
              "    </tr>\n",
              "    <tr>\n",
              "      <th>Numeric Wage</th>\n",
              "      <td>0.148525</td>\n",
              "      <td>0.573896</td>\n",
              "      <td>0.490633</td>\n",
              "      <td>0.677923</td>\n",
              "      <td>0.138816</td>\n",
              "      <td>0.259534</td>\n",
              "      <td>0.233186</td>\n",
              "      <td>0.214712</td>\n",
              "      <td>0.189772</td>\n",
              "      <td>0.297145</td>\n",
              "      <td>0.253542</td>\n",
              "      <td>0.234484</td>\n",
              "      <td>0.257213</td>\n",
              "      <td>0.236119</td>\n",
              "      <td>0.280609</td>\n",
              "      <td>0.275948</td>\n",
              "      <td>0.125054</td>\n",
              "      <td>0.130590</td>\n",
              "      <td>0.154808</td>\n",
              "      <td>0.500088</td>\n",
              "      <td>0.089214</td>\n",
              "      <td>0.256182</td>\n",
              "      <td>0.131035</td>\n",
              "      <td>0.181262</td>\n",
              "      <td>0.142183</td>\n",
              "      <td>0.246352</td>\n",
              "      <td>0.199014</td>\n",
              "      <td>0.165484</td>\n",
              "      <td>0.224421</td>\n",
              "      <td>0.316461</td>\n",
              "      <td>0.222491</td>\n",
              "      <td>0.421709</td>\n",
              "      <td>0.151515</td>\n",
              "      <td>0.133823</td>\n",
              "      <td>0.118737</td>\n",
              "      <td>0.020191</td>\n",
              "      <td>0.065254</td>\n",
              "      <td>1.000000</td>\n",
              "      <td>0.861528</td>\n",
              "      <td>0.855922</td>\n",
              "    </tr>\n",
              "    <tr>\n",
              "      <th>Numeric Value</th>\n",
              "      <td>0.076475</td>\n",
              "      <td>0.629198</td>\n",
              "      <td>0.585352</td>\n",
              "      <td>0.657724</td>\n",
              "      <td>0.165056</td>\n",
              "      <td>0.316869</td>\n",
              "      <td>0.250717</td>\n",
              "      <td>0.257484</td>\n",
              "      <td>0.186386</td>\n",
              "      <td>0.329482</td>\n",
              "      <td>0.286891</td>\n",
              "      <td>0.272370</td>\n",
              "      <td>0.286874</td>\n",
              "      <td>0.265725</td>\n",
              "      <td>0.306205</td>\n",
              "      <td>0.309744</td>\n",
              "      <td>0.173143</td>\n",
              "      <td>0.175917</td>\n",
              "      <td>0.195556</td>\n",
              "      <td>0.544365</td>\n",
              "      <td>0.115613</td>\n",
              "      <td>0.281057</td>\n",
              "      <td>0.125983</td>\n",
              "      <td>0.214108</td>\n",
              "      <td>0.130024</td>\n",
              "      <td>0.279553</td>\n",
              "      <td>0.187221</td>\n",
              "      <td>0.145766</td>\n",
              "      <td>0.259387</td>\n",
              "      <td>0.360266</td>\n",
              "      <td>0.240649</td>\n",
              "      <td>0.453312</td>\n",
              "      <td>0.137982</td>\n",
              "      <td>0.113479</td>\n",
              "      <td>0.093061</td>\n",
              "      <td>0.001850</td>\n",
              "      <td>0.044114</td>\n",
              "      <td>0.861528</td>\n",
              "      <td>1.000000</td>\n",
              "      <td>0.994352</td>\n",
              "    </tr>\n",
              "    <tr>\n",
              "      <th>Numeric Release Clause</th>\n",
              "      <td>0.060760</td>\n",
              "      <td>0.616422</td>\n",
              "      <td>0.586751</td>\n",
              "      <td>0.641156</td>\n",
              "      <td>0.160216</td>\n",
              "      <td>0.310851</td>\n",
              "      <td>0.244777</td>\n",
              "      <td>0.251352</td>\n",
              "      <td>0.180935</td>\n",
              "      <td>0.322969</td>\n",
              "      <td>0.277077</td>\n",
              "      <td>0.266904</td>\n",
              "      <td>0.279425</td>\n",
              "      <td>0.257184</td>\n",
              "      <td>0.299085</td>\n",
              "      <td>0.303172</td>\n",
              "      <td>0.170377</td>\n",
              "      <td>0.172990</td>\n",
              "      <td>0.190271</td>\n",
              "      <td>0.532099</td>\n",
              "      <td>0.113785</td>\n",
              "      <td>0.272659</td>\n",
              "      <td>0.120461</td>\n",
              "      <td>0.206093</td>\n",
              "      <td>0.122656</td>\n",
              "      <td>0.271442</td>\n",
              "      <td>0.180858</td>\n",
              "      <td>0.142248</td>\n",
              "      <td>0.252351</td>\n",
              "      <td>0.351472</td>\n",
              "      <td>0.232569</td>\n",
              "      <td>0.441679</td>\n",
              "      <td>0.134908</td>\n",
              "      <td>0.112420</td>\n",
              "      <td>0.092550</td>\n",
              "      <td>0.001922</td>\n",
              "      <td>0.039847</td>\n",
              "      <td>0.855922</td>\n",
              "      <td>0.994352</td>\n",
              "      <td>1.000000</td>\n",
              "    </tr>\n",
              "  </tbody>\n",
              "</table>\n",
              "</div>"
            ],
            "text/plain": [
              "                               Age  ...  Numeric Release Clause\n",
              "Age                       1.000000  ...                0.060760\n",
              "Overall                   0.464977  ...                0.616422\n",
              "Potential                -0.236762  ...                0.586751\n",
              "International Reputation  0.250947  ...                0.641156\n",
              "Weak Foot                 0.065577  ...                0.160216\n",
              "Skill Moves               0.036189  ...                0.310851\n",
              "Crossing                  0.137798  ...                0.244777\n",
              "Finishing                 0.077465  ...                0.251352\n",
              "HeadingAccuracy           0.153163  ...                0.180935\n",
              "ShortPassing              0.141588  ...                0.322969\n",
              "Volleys                   0.150618  ...                0.277077\n",
              "Dribbling                 0.018858  ...                0.266904\n",
              "Curve                     0.152318  ...                0.279425\n",
              "FKAccuracy                0.202242  ...                0.257184\n",
              "LongPassing               0.187692  ...                0.299085\n",
              "BallControl               0.095874  ...                0.303172\n",
              "Acceleration             -0.152913  ...                0.170377\n",
              "SprintSpeed              -0.145548  ...                0.172990\n",
              "Agility                  -0.012920  ...                0.190271\n",
              "Reactions                 0.462434  ...                0.532099\n",
              "Balance                  -0.087217  ...                0.113785\n",
              "ShotPower                 0.165092  ...                0.272659\n",
              "Jumping                   0.179978  ...                0.120461\n",
              "Stamina                   0.103525  ...                0.206093\n",
              "Strength                  0.340691  ...                0.122656\n",
              "LongShots                 0.164493  ...                0.271442\n",
              "Aggression                0.269639  ...                0.180858\n",
              "Interceptions             0.200477  ...                0.142248\n",
              "Positioning               0.091769  ...                0.252351\n",
              "Vision                    0.199103  ...                0.351472\n",
              "Penalties                 0.147641  ...                0.232569\n",
              "Composure                 0.402007  ...                0.441679\n",
              "Marking                   0.145740  ...                0.134908\n",
              "StandingTackle            0.121925  ...                0.112420\n",
              "SlidingTackle             0.104952  ...                0.092550\n",
              "Height (inches)           0.085158  ...                0.001922\n",
              "Weight (lbs)              0.232396  ...                0.039847\n",
              "Numeric Wage              0.148525  ...                0.855922\n",
              "Numeric Value             0.076475  ...                0.994352\n",
              "Numeric Release Clause    0.060760  ...                1.000000\n",
              "\n",
              "[40 rows x 40 columns]"
            ]
          },
          "metadata": {
            "tags": []
          },
          "execution_count": 25
        }
      ]
    },
    {
      "cell_type": "markdown",
      "metadata": {
        "id": "fcFcfZ1iw-rQ"
      },
      "source": [
        "Above is the correlation matrix for our features"
      ]
    },
    {
      "cell_type": "code",
      "metadata": {
        "id": "td5Ti1tmoG_x",
        "colab": {
          "base_uri": "https://localhost:8080/",
          "height": 707
        },
        "outputId": "a3878547-d40c-4cbd-a87d-99cf94800bf4"
      },
      "source": [
        "fig = plt.subplots(figsize=(14,10))\n",
        "sn.heatmap(corr_matrix, linewidths=.5, square=True)\n",
        "plt.show()"
      ],
      "execution_count": null,
      "outputs": [
        {
          "output_type": "display_data",
          "data": {
            "image/png": "[encoded data removed]",
            "text/plain": [
              "<Figure size 1008x720 with 2 Axes>"
            ]
          },
          "metadata": {
            "tags": [],
            "needs_background": "light"
          }
        }
      ]
    },
    {
      "cell_type": "markdown",
      "metadata": {
        "id": "W0VVc1s5xEN4"
      },
      "source": [
        "Above is the heatmap of our correlation matrix"
      ]
    },
    {
      "cell_type": "code",
      "metadata": {
        "id": "a8V2NDx6a767",
        "colab": {
          "base_uri": "https://localhost:8080/"
        },
        "outputId": "fa2a1635-95cf-4f57-faa9-8fee596214a7"
      },
      "source": [
        "cor_target = abs(corr_matrix[\"Numeric Wage\"])\n",
        "relevant_features = cor_target[cor_target>0.3]\n",
        "relevant_features"
      ],
      "execution_count": null,
      "outputs": [
        {
          "output_type": "execute_result",
          "data": {
            "text/plain": [
              "Overall                     0.573896\n",
              "Potential                   0.490633\n",
              "International Reputation    0.677923\n",
              "Reactions                   0.500088\n",
              "Vision                      0.316461\n",
              "Composure                   0.421709\n",
              "Numeric Wage                1.000000\n",
              "Numeric Value               0.861528\n",
              "Numeric Release Clause      0.855922\n",
              "Name: Numeric Wage, dtype: float64"
            ]
          },
          "metadata": {
            "tags": []
          },
          "execution_count": 27
        }
      ]
    },
    {
      "cell_type": "markdown",
      "metadata": {
        "id": "XZOi1VZIbl80"
      },
      "source": [
        "From this we can see that the top features are Overall, Potential, Reactions, Vision and Composure which are the most highly correlated with our dependent variable - **Wage**. I will be using Overall as my independent variable for my regression models"
      ]
    },
    {
      "cell_type": "code",
      "metadata": {
        "id": "2Vmkv5uuq_hI",
        "colab": {
          "base_uri": "https://localhost:8080/",
          "height": 296
        },
        "outputId": "c254e3f8-1ba5-4ccf-8206-f4010d9b85ea"
      },
      "source": [
        "FIFA_ds.plot.scatter(x ='Age', y ='Numeric Wage')"
      ],
      "execution_count": null,
      "outputs": [
        {
          "output_type": "execute_result",
          "data": {
            "text/plain": [
              "<matplotlib.axes._subplots.AxesSubplot at 0x7ffba1f977d0>"
            ]
          },
          "metadata": {
            "tags": []
          },
          "execution_count": 28
        },
        {
          "output_type": "display_data",
          "data": {
            "image/png": "[encoded data removed]",
            "text/plain": [
              "<Figure size 432x288 with 1 Axes>"
            ]
          },
          "metadata": {
            "tags": [],
            "needs_background": "light"
          }
        }
      ]
    },
    {
      "cell_type": "markdown",
      "metadata": {
        "id": "pOtV-uwjxYIA"
      },
      "source": [
        "With this, we can see that players between the age of 26 to 33 have the highest wages"
      ]
    },
    {
      "cell_type": "code",
      "metadata": {
        "id": "XGH7uBJIu27D",
        "colab": {
          "base_uri": "https://localhost:8080/",
          "height": 296
        },
        "outputId": "18c7e765-7b49-46b7-d2d0-d23221816ffa"
      },
      "source": [
        "FIFA_ds.plot.scatter(x ='Potential', y ='Numeric Wage')"
      ],
      "execution_count": null,
      "outputs": [
        {
          "output_type": "execute_result",
          "data": {
            "text/plain": [
              "<matplotlib.axes._subplots.AxesSubplot at 0x7ffba1fa0750>"
            ]
          },
          "metadata": {
            "tags": []
          },
          "execution_count": 29
        },
        {
          "output_type": "display_data",
          "data": {
            "image/png": "[encoded data removed]",
            "text/plain": [
              "<Figure size 432x288 with 1 Axes>"
            ]
          },
          "metadata": {
            "tags": [],
            "needs_background": "light"
          }
        }
      ]
    },
    {
      "cell_type": "markdown",
      "metadata": {
        "id": "NXjCyPWcxj4D"
      },
      "source": [
        "With the above graph, we can see that Potential and Wage have an exponential relationship"
      ]
    },
    {
      "cell_type": "markdown",
      "metadata": {
        "id": "HMESN8DC5Q2M"
      },
      "source": [
        "###d) Processing of each dataset\n"
      ]
    },
    {
      "cell_type": "markdown",
      "metadata": {
        "id": "q4m8ckce_DXk"
      },
      "source": [
        "#### Simple Linear Regression"
      ]
    },
    {
      "cell_type": "code",
      "metadata": {
        "id": "dI-9YuT8p10c",
        "colab": {
          "base_uri": "https://localhost:8080/"
        },
        "outputId": "404358e8-19ad-4ed0-ee42-79824a99f3a4"
      },
      "source": [
        "FIFA_ds.plot.scatter(x ='Overall', y ='Numeric Wage')"
      ],
      "execution_count": null,
      "outputs": [
        {
          "output_type": "execute_result",
          "data": {
            "text/plain": [
              "<matplotlib.axes._subplots.AxesSubplot at 0x7ffba1d6f990>"
            ]
          },
          "metadata": {
            "tags": []
          },
          "execution_count": 30
        },
        {
          "output_type": "display_data",
          "data": {
            "image/png": "[encoded data removed]",
            "text/plain": [
              "<Figure size 432x288 with 1 Axes>"
            ]
          },
          "metadata": {
            "tags": [],
            "needs_background": "light"
          }
        }
      ]
    },
    {
      "cell_type": "markdown",
      "metadata": {
        "id": "s70EPUr6yiB8"
      },
      "source": [
        "Similar to our above graph, even Overall and Wage have a exponential relationship."
      ]
    },
    {
      "cell_type": "code",
      "metadata": {
        "id": "mHH9c67txN6I"
      },
      "source": [
        "X = FIFA_ds['Overall']\n",
        "y = FIFA_ds['Numeric Wage']"
      ],
      "execution_count": null,
      "outputs": []
    },
    {
      "cell_type": "code",
      "metadata": {
        "id": "6xcMpPywv9DH"
      },
      "source": [
        "from sklearn.linear_model import LinearRegression\n",
        "linear_regressor = LinearRegression()"
      ],
      "execution_count": null,
      "outputs": []
    },
    {
      "cell_type": "code",
      "metadata": {
        "id": "Ks-YRMScxIXN"
      },
      "source": [
        "from sklearn.model_selection import train_test_split\n",
        "x_train,x_test,y_train,y_test=train_test_split(X,y,test_size=0.2,random_state=0)"
      ],
      "execution_count": null,
      "outputs": []
    },
    {
      "cell_type": "code",
      "metadata": {
        "id": "mIgOoxCpx44m"
      },
      "source": [
        "x_train=np.array(x_train)\n",
        "y_train=np.array(y_train)"
      ],
      "execution_count": null,
      "outputs": []
    },
    {
      "cell_type": "code",
      "metadata": {
        "id": "dnbv6LLmx9Hk"
      },
      "source": [
        "x_train=x_train.reshape(-1,1)\n",
        "y_train=y_train.reshape(-1,1)"
      ],
      "execution_count": null,
      "outputs": []
    },
    {
      "cell_type": "code",
      "metadata": {
        "id": "Ix9xVLdE4ulJ"
      },
      "source": [
        "x_test=np.array(x_test)\n",
        "x_test=x_test.reshape(-1,1)"
      ],
      "execution_count": null,
      "outputs": []
    },
    {
      "cell_type": "code",
      "metadata": {
        "id": "MvqXXO6G5CFw",
        "colab": {
          "base_uri": "https://localhost:8080/"
        },
        "outputId": "fc092d37-33a3-49a0-acec-7cb35134ecb9"
      },
      "source": [
        "linear_regressor.fit(x_train,y_train)"
      ],
      "execution_count": null,
      "outputs": [
        {
          "output_type": "execute_result",
          "data": {
            "text/plain": [
              "LinearRegression(copy_X=True, fit_intercept=True, n_jobs=None, normalize=False)"
            ]
          },
          "metadata": {
            "tags": []
          },
          "execution_count": 37
        }
      ]
    },
    {
      "cell_type": "code",
      "metadata": {
        "id": "l7Jha-2q5PTW",
        "colab": {
          "base_uri": "https://localhost:8080/"
        },
        "outputId": "b073dc69-7dd5-410f-8bf7-4db6c76dda5a"
      },
      "source": [
        "y_pred = linear_regressor.predict(x_test)\n",
        "y_pred"
      ],
      "execution_count": null,
      "outputs": [
        {
          "output_type": "execute_result",
          "data": {
            "text/plain": [
              "array([[ 2023.76189873],\n",
              "       [ 9316.27509387],\n",
              "       [ 5670.0184963 ],\n",
              "       ...,\n",
              "       [ 2023.76189873],\n",
              "       [23901.30148415],\n",
              "       [-8915.00789398]])"
            ]
          },
          "metadata": {
            "tags": []
          },
          "execution_count": 38
        }
      ]
    },
    {
      "cell_type": "markdown",
      "metadata": {
        "id": "yS8c7K2d09qb"
      },
      "source": [
        "Above are the predictions that our model makes based on our test set"
      ]
    },
    {
      "cell_type": "code",
      "metadata": {
        "id": "7XhRrXEv9FxA",
        "colab": {
          "base_uri": "https://localhost:8080/"
        },
        "outputId": "ea896f82-9b33-4105-b557-ac17966e3581"
      },
      "source": [
        "plt.scatter(x_train,y_train,color=\"blue\")\n",
        "plt.xlabel(\"Overall\")\n",
        "plt.ylabel(\"Numeric Wage\")\n",
        "plt.title(\"Regression Graph for training dataset\")\n",
        "plt.plot(x_train, linear_regressor.predict(x_train),color=\"red\")\n",
        "plt.show()"
      ],
      "execution_count": null,
      "outputs": [
        {
          "output_type": "display_data",
          "data": {
            "image/png": "[encoded data removed]",
            "text/plain": [
              "<Figure size 432x288 with 1 Axes>"
            ]
          },
          "metadata": {
            "tags": [],
            "needs_background": "light"
          }
        }
      ]
    },
    {
      "cell_type": "markdown",
      "metadata": {
        "id": "TQnzoFJe9jIo"
      },
      "source": [
        "Above is the graph for predictions based on the training dataset"
      ]
    },
    {
      "cell_type": "code",
      "metadata": {
        "id": "MaV9kw-R9tBB",
        "colab": {
          "base_uri": "https://localhost:8080/"
        },
        "outputId": "8ac57287-70fb-4d3d-a9e9-5450534a4ecb"
      },
      "source": [
        "plt.scatter(x_test,y_test,color=\"blue\")\n",
        "plt.xlabel(\"Overall\")\n",
        "plt.ylabel(\"Numeric Wage\")\n",
        "plt.title(\"Regression Graph for test dataset\")\n",
        "plt.plot(x_test, linear_regressor.predict(x_test),color=\"red\")\n",
        "plt.show()"
      ],
      "execution_count": null,
      "outputs": [
        {
          "output_type": "display_data",
          "data": {
            "image/png": "[encoded data removed]",
            "text/plain": [
              "<Figure size 432x288 with 1 Axes>"
            ]
          },
          "metadata": {
            "tags": [],
            "needs_background": "light"
          }
        }
      ]
    },
    {
      "cell_type": "markdown",
      "metadata": {
        "id": "nP6-KuC8966B"
      },
      "source": [
        "Above is the graph for predictions based on the test dataset"
      ]
    },
    {
      "cell_type": "code",
      "metadata": {
        "id": "NtYCd3o2-Smk",
        "colab": {
          "base_uri": "https://localhost:8080/"
        },
        "outputId": "1e08a61f-933f-4f24-941a-bf7501d32552"
      },
      "source": [
        "linear_regressor.intercept_"
      ],
      "execution_count": null,
      "outputs": [
        {
          "output_type": "execute_result",
          "data": {
            "text/plain": [
              "array([-111010.19262593])"
            ]
          },
          "metadata": {
            "tags": []
          },
          "execution_count": 41
        }
      ]
    },
    {
      "cell_type": "code",
      "metadata": {
        "id": "wv43gW4n-TSU",
        "colab": {
          "base_uri": "https://localhost:8080/"
        },
        "outputId": "27f1dfb2-78ef-43a9-ff02-1c9d8ec49174"
      },
      "source": [
        "linear_regressor.coef_"
      ],
      "execution_count": null,
      "outputs": [
        {
          "output_type": "execute_result",
          "data": {
            "text/plain": [
              "array([[1823.12829878]])"
            ]
          },
          "metadata": {
            "tags": []
          },
          "execution_count": 42
        }
      ]
    },
    {
      "cell_type": "code",
      "metadata": {
        "id": "SmcNxwXf-ga-",
        "colab": {
          "base_uri": "https://localhost:8080/"
        },
        "outputId": "96bcab78-e12e-49f4-f46c-96d3e0f39a2e"
      },
      "source": [
        "from sklearn.metrics import mean_squared_error\n",
        "mean_squared_error(y_test,y_pred)"
      ],
      "execution_count": null,
      "outputs": [
        {
          "output_type": "execute_result",
          "data": {
            "text/plain": [
              "313714079.45084023"
            ]
          },
          "metadata": {
            "tags": []
          },
          "execution_count": 43
        }
      ]
    },
    {
      "cell_type": "code",
      "metadata": {
        "id": "h3B7Lrp8-ppm",
        "colab": {
          "base_uri": "https://localhost:8080/"
        },
        "outputId": "12f89e43-2dfe-45ce-ce66-2d5817b87d5f"
      },
      "source": [
        "from sklearn.metrics import r2_score\n",
        "r2_score(y_test, y_pred)"
      ],
      "execution_count": null,
      "outputs": [
        {
          "output_type": "execute_result",
          "data": {
            "text/plain": [
              "0.3420057988074755"
            ]
          },
          "metadata": {
            "tags": []
          },
          "execution_count": 44
        }
      ]
    },
    {
      "cell_type": "markdown",
      "metadata": {
        "id": "D4w3ot_N1H2u"
      },
      "source": [
        "Our Simple Linear Model has a very high mean squared error and a low R^2 score of 0.342. This makes sense since we are using a linear model with just one independent variable to predict the dependent variable."
      ]
    },
    {
      "cell_type": "markdown",
      "metadata": {
        "id": "GV3D_Agr_J8t"
      },
      "source": [
        "#### Multiple Linear Regression"
      ]
    },
    {
      "cell_type": "code",
      "metadata": {
        "id": "JjQUxAmT_NH2"
      },
      "source": [
        "X1 = FIFA_ds.iloc[:,:-3]\n",
        "y1 = FIFA_ds.iloc[:,-3]"
      ],
      "execution_count": null,
      "outputs": []
    },
    {
      "cell_type": "code",
      "metadata": {
        "id": "E4HkK5X8D4Gx"
      },
      "source": [
        "x_train1,x_test1,y_train1,y_test1=train_test_split(X1,y1,test_size=0.2,random_state=0)"
      ],
      "execution_count": null,
      "outputs": []
    },
    {
      "cell_type": "code",
      "metadata": {
        "id": "ntyXX83gIB62"
      },
      "source": [
        "linear_regressor1 = LinearRegression()"
      ],
      "execution_count": null,
      "outputs": []
    },
    {
      "cell_type": "code",
      "metadata": {
        "id": "Hp1XRBbxIJ_0",
        "colab": {
          "base_uri": "https://localhost:8080/"
        },
        "outputId": "563e072d-e97e-49fc-84aa-d678d0b7d1b2"
      },
      "source": [
        "linear_regressor1.fit(x_train1,y_train1)"
      ],
      "execution_count": null,
      "outputs": [
        {
          "output_type": "execute_result",
          "data": {
            "text/plain": [
              "LinearRegression(copy_X=True, fit_intercept=True, n_jobs=None, normalize=False)"
            ]
          },
          "metadata": {
            "tags": []
          },
          "execution_count": 48
        }
      ]
    },
    {
      "cell_type": "code",
      "metadata": {
        "id": "5YH0Z0VnIZa_",
        "colab": {
          "base_uri": "https://localhost:8080/"
        },
        "outputId": "00da59ab-5913-4579-e2e5-2bec9dcca1ba"
      },
      "source": [
        "y_pred1 = linear_regressor1.predict(x_test1)\n",
        "y_pred1\n"
      ],
      "execution_count": null,
      "outputs": [
        {
          "output_type": "execute_result",
          "data": {
            "text/plain": [
              "array([ 4153.2689615 , 10160.21807957, -3080.54465075, ...,\n",
              "        1019.50600898, 15552.1766111 , -5765.76061897])"
            ]
          },
          "metadata": {
            "tags": []
          },
          "execution_count": 49
        }
      ]
    },
    {
      "cell_type": "code",
      "metadata": {
        "id": "8RX0nlfUJ0cs",
        "colab": {
          "base_uri": "https://localhost:8080/"
        },
        "outputId": "0230c607-844e-42ee-b1f1-9369421414ea"
      },
      "source": [
        "plt.scatter(y_test1,y_pred1)\n",
        "plt.xlabel(\"Actual Wage\")\n",
        "plt.ylabel(\"Predicted Wage\")\n",
        "plt.title(\"Actual vs Predicted Values\")\n",
        "plt.show()"
      ],
      "execution_count": null,
      "outputs": [
        {
          "output_type": "display_data",
          "data": {
            "image/png": "[encoded data removed]",
            "text/plain": [
              "<Figure size 432x288 with 1 Axes>"
            ]
          },
          "metadata": {
            "tags": [],
            "needs_background": "light"
          }
        }
      ]
    },
    {
      "cell_type": "markdown",
      "metadata": {
        "id": "PBg9qtzdNqey"
      },
      "source": [
        "Above is the graph for our predicted value vs actual value for wage"
      ]
    },
    {
      "cell_type": "code",
      "metadata": {
        "id": "B9pjHtiMPYiq",
        "colab": {
          "base_uri": "https://localhost:8080/"
        },
        "outputId": "7cc2321d-5f2c-43e7-dc13-2906ee60292a"
      },
      "source": [
        "linear_regressor1.intercept_"
      ],
      "execution_count": null,
      "outputs": [
        {
          "output_type": "execute_result",
          "data": {
            "text/plain": [
              "-96133.88544414754"
            ]
          },
          "metadata": {
            "tags": []
          },
          "execution_count": 51
        }
      ]
    },
    {
      "cell_type": "code",
      "metadata": {
        "id": "_kWr6yVuPlUw",
        "colab": {
          "base_uri": "https://localhost:8080/"
        },
        "outputId": "41f6a41b-661c-4229-d21e-99cd51529084"
      },
      "source": [
        "linear_regressor1.coef_"
      ],
      "execution_count": null,
      "outputs": [
        {
          "output_type": "execute_result",
          "data": {
            "text/plain": [
              "array([-8.44416603e+02,  1.28834621e+03, -1.15195356e+02,  2.97816343e+04,\n",
              "        1.23973204e+01, -4.91470868e+02, -4.26104824e+00,  4.49678530e+01,\n",
              "        2.00135305e+01, -6.23233340e+00, -2.02217302e+00, -1.99593394e+01,\n",
              "       -1.28834528e+01,  1.71805113e+00, -2.12538463e+01,  6.68860873e+00,\n",
              "       -1.75874826e+01,  9.19884077e+00, -2.44579920e+01,  8.08504653e+01,\n",
              "        5.50301744e+01, -3.97396031e+01, -2.32750345e+01,  2.47065251e+01,\n",
              "       -4.33871073e+01, -5.84133177e+00, -1.63968070e+01, -2.56170800e+01,\n",
              "        3.44628953e+01,  1.96515007e+01, -1.10499907e+01, -1.61732401e+01,\n",
              "       -1.42905011e+01,  3.29541448e+01,  2.69551888e+01,  1.95008544e+02,\n",
              "        9.13243209e+00])"
            ]
          },
          "metadata": {
            "tags": []
          },
          "execution_count": 52
        }
      ]
    },
    {
      "cell_type": "code",
      "metadata": {
        "id": "Wz5K8YTzmMwf",
        "colab": {
          "base_uri": "https://localhost:8080/"
        },
        "outputId": "f25248ce-fb96-4e77-8c31-d66a2e0b0a81"
      },
      "source": [
        "from sklearn.metrics import mean_squared_error\n",
        "mean_squared_error(y_test1, y_pred1)"
      ],
      "execution_count": null,
      "outputs": [
        {
          "output_type": "execute_result",
          "data": {
            "text/plain": [
              "214563025.6555631"
            ]
          },
          "metadata": {
            "tags": []
          },
          "execution_count": 53
        }
      ]
    },
    {
      "cell_type": "code",
      "metadata": {
        "id": "LcYk6T_qLjpg",
        "colab": {
          "base_uri": "https://localhost:8080/"
        },
        "outputId": "ddc3cc53-e610-44ec-caf2-3748196a40f5"
      },
      "source": [
        "from sklearn.metrics import r2_score\n",
        "r2_score(y_test1, y_pred1)"
      ],
      "execution_count": null,
      "outputs": [
        {
          "output_type": "execute_result",
          "data": {
            "text/plain": [
              "0.5499684715495633"
            ]
          },
          "metadata": {
            "tags": []
          },
          "execution_count": 54
        }
      ]
    },
    {
      "cell_type": "markdown",
      "metadata": {
        "id": "K3S-anYc11Nw"
      },
      "source": [
        "Our Multiple Linear Model with a R^2 score of 0.55 performs much better than our Simple Linear Model and also has a lower mean squared error. This makes sense since this model has more independent variables and is trained on a diverse dataset "
      ]
    },
    {
      "cell_type": "markdown",
      "metadata": {
        "id": "bJ0n5ymyS1PA"
      },
      "source": [
        "#### Polynomial Regression"
      ]
    },
    {
      "cell_type": "code",
      "metadata": {
        "id": "xBLBv2XrS4Jr"
      },
      "source": [
        "X2 = FIFA_ds['Overall']\n",
        "y2 = FIFA_ds['Numeric Wage']"
      ],
      "execution_count": null,
      "outputs": []
    },
    {
      "cell_type": "code",
      "metadata": {
        "id": "jWV0Dax-dSSM"
      },
      "source": [
        "from sklearn.preprocessing import PolynomialFeatures\n",
        "poly_reg = PolynomialFeatures(degree = 4)"
      ],
      "execution_count": null,
      "outputs": []
    },
    {
      "cell_type": "code",
      "metadata": {
        "id": "R56aDZA4hb6z"
      },
      "source": [
        "X2=np.array(X2)"
      ],
      "execution_count": null,
      "outputs": []
    },
    {
      "cell_type": "code",
      "metadata": {
        "id": "xQLH_3Dshg7X"
      },
      "source": [
        "X2=X2.reshape(-1,1)"
      ],
      "execution_count": null,
      "outputs": []
    },
    {
      "cell_type": "code",
      "metadata": {
        "id": "zKkb3UcHiVYM",
        "colab": {
          "base_uri": "https://localhost:8080/"
        },
        "outputId": "ce0d6064-962f-459e-a1e6-9f45253c62bb"
      },
      "source": [
        "x_poly=poly_reg.fit_transform(X2)\n",
        "x_poly"
      ],
      "execution_count": null,
      "outputs": [
        {
          "output_type": "execute_result",
          "data": {
            "text/plain": [
              "array([[1.0000000e+00, 9.4000000e+01, 8.8360000e+03, 8.3058400e+05,\n",
              "        7.8074896e+07],\n",
              "       [1.0000000e+00, 9.4000000e+01, 8.8360000e+03, 8.3058400e+05,\n",
              "        7.8074896e+07],\n",
              "       [1.0000000e+00, 9.2000000e+01, 8.4640000e+03, 7.7868800e+05,\n",
              "        7.1639296e+07],\n",
              "       ...,\n",
              "       [1.0000000e+00, 4.7000000e+01, 2.2090000e+03, 1.0382300e+05,\n",
              "        4.8796810e+06],\n",
              "       [1.0000000e+00, 4.7000000e+01, 2.2090000e+03, 1.0382300e+05,\n",
              "        4.8796810e+06],\n",
              "       [1.0000000e+00, 4.6000000e+01, 2.1160000e+03, 9.7336000e+04,\n",
              "        4.4774560e+06]])"
            ]
          },
          "metadata": {
            "tags": []
          },
          "execution_count": 59
        }
      ]
    },
    {
      "cell_type": "code",
      "metadata": {
        "id": "7mm9tATcY5hx"
      },
      "source": [
        "x_poly_train,x_poly_test,y_train2,y_test2=train_test_split(x_poly,y2,test_size=0.2, random_state=0)"
      ],
      "execution_count": null,
      "outputs": []
    },
    {
      "cell_type": "code",
      "metadata": {
        "id": "IDH9blEbjVb2"
      },
      "source": [
        "linear_regressor2 = LinearRegression()"
      ],
      "execution_count": null,
      "outputs": []
    },
    {
      "cell_type": "code",
      "metadata": {
        "id": "kImx1IdOkrfZ",
        "colab": {
          "base_uri": "https://localhost:8080/"
        },
        "outputId": "fe6f8dd7-089c-4541-83f2-8856d10912fa"
      },
      "source": [
        "linear_regressor2.fit(x_poly_train,y_train2)"
      ],
      "execution_count": null,
      "outputs": [
        {
          "output_type": "execute_result",
          "data": {
            "text/plain": [
              "LinearRegression(copy_X=True, fit_intercept=True, n_jobs=None, normalize=False)"
            ]
          },
          "metadata": {
            "tags": []
          },
          "execution_count": 62
        }
      ]
    },
    {
      "cell_type": "code",
      "metadata": {
        "id": "S2E45IAjlVPr"
      },
      "source": [
        "y_pred2=linear_regressor2.predict(x_poly_test)"
      ],
      "execution_count": null,
      "outputs": []
    },
    {
      "cell_type": "code",
      "metadata": {
        "id": "mW_DOtXYnAPo",
        "colab": {
          "base_uri": "https://localhost:8080/"
        },
        "outputId": "d7e2a863-c59c-4376-815b-79c97887a750"
      },
      "source": [
        "plt.scatter(X2,y2,color='blue')\n",
        "plt.xlabel(\"Overall\")\n",
        "plt.ylabel(\"Wage\")\n",
        "plt.title(\"Polynomial Regression Curve \")\n",
        "plt.plot(X2,linear_regressor2.predict(poly_reg.fit_transform(X2)),color='red')\n",
        "plt.show()"
      ],
      "execution_count": null,
      "outputs": [
        {
          "output_type": "display_data",
          "data": {
            "image/png": "[encoded data removed]",
            "text/plain": [
              "<Figure size 432x288 with 1 Axes>"
            ]
          },
          "metadata": {
            "tags": [],
            "needs_background": "light"
          }
        }
      ]
    },
    {
      "cell_type": "code",
      "metadata": {
        "id": "rd_3ckXLmWS-",
        "colab": {
          "base_uri": "https://localhost:8080/"
        },
        "outputId": "eaa6c2af-4dbf-4c9e-ac4d-df2225b2b828"
      },
      "source": [
        "from sklearn.metrics import mean_squared_error\n",
        "mean_squared_error(y_test2, y_pred2)"
      ],
      "execution_count": null,
      "outputs": [
        {
          "output_type": "execute_result",
          "data": {
            "text/plain": [
              "127365756.64109135"
            ]
          },
          "metadata": {
            "tags": []
          },
          "execution_count": 65
        }
      ]
    },
    {
      "cell_type": "code",
      "metadata": {
        "id": "hC3TdY5ulh36",
        "colab": {
          "base_uri": "https://localhost:8080/"
        },
        "outputId": "0d9028b3-046a-483a-f809-1f67dc8aa0f9"
      },
      "source": [
        "from sklearn.metrics import r2_score\n",
        "r2_score(y_test2, y_pred2)"
      ],
      "execution_count": null,
      "outputs": [
        {
          "output_type": "execute_result",
          "data": {
            "text/plain": [
              "0.7328588839651713"
            ]
          },
          "metadata": {
            "tags": []
          },
          "execution_count": 66
        }
      ]
    },
    {
      "cell_type": "markdown",
      "metadata": {
        "id": "LFAqLgE42y4F"
      },
      "source": [
        "Our Polynomial Regression Model has the lowest mean sqaured error and also the highest R^2 score of 0.732. This makes sense since our independent and dependent varible have an exponential relationship"
      ]
    },
    {
      "cell_type": "markdown",
      "metadata": {
        "id": "wRiEeYyc3Z_4"
      },
      "source": [
        "### e) Comparative Analysis"
      ]
    },
    {
      "cell_type": "markdown",
      "metadata": {
        "id": "o9PDfT5O3bt2"
      },
      "source": [
        "With our 3 regression models, we get the R^2 score:\n",
        "\n",
        "Simple Linear Regression = ***0.342***\n",
        "\n",
        "Multiple Linear Regression = ***0.559***\n",
        "\n",
        "Polynomial Regression = ***0.732***\n",
        "\n",
        "\n",
        "**With this, we can conclude that the Polynomial Regression Model was the most accurate for this dataset. Since our dependent and independent variables showed an exponential relationship, it makes sense that a Polynomial Model would come closest to being the best fit one as compared to the other Simple and Multiple Linear Models.**"
      ]
    },
    {
      "cell_type": "markdown",
      "metadata": {
        "id": "MFnf1PiA61lo"
      },
      "source": [
        "### f) Ethical Issues"
      ]
    },
    {
      "cell_type": "markdown",
      "metadata": {
        "id": "9TZ6wbiZ68Z9"
      },
      "source": [
        "There are not many ethical issues with this dataset as FIFA informs these real life players of their ratings prior to releasing the game"
      ]
    },
    {
      "cell_type": "markdown",
      "metadata": {
        "id": "HcunEzKS7SJ1"
      },
      "source": [
        "### g) Bibliography"
      ]
    },
    {
      "cell_type": "markdown",
      "metadata": {
        "id": "FeSDNpkp7VqX"
      },
      "source": [
        "1.) https://towardsdatascience.com/fifa-20-player-clustering-f500cf0792c5\n",
        "\n",
        "Title - Machine Learning on FIFA 20\n",
        "\n",
        "Author - Erick Daniel Rodriguez V.\n",
        "\n",
        "Publication Date - Spetember 2019\n",
        "\n",
        "Publication - Towards Data Science\n",
        "\n",
        "\n",
        "\n",
        "2.) https://towardsdatascience.com/how-to-predict-your-best-footballers-fifa-20-ratings-9d1147ced401\n",
        "\n",
        "Title - How to predict your best footballers’ FIFA 20 ratings.\n",
        "\n",
        "Author - Mubarak Ganiyu\n",
        "\n",
        "Publication Date - October 2019\n",
        "\n",
        "Publication - Towards Data Science\n",
        "\n",
        "\n",
        "\n",
        "3.) https://scikit-learn.org/stable/modules/linear_model.html#polynomial-regression-extending-linear-models-with-basis-functions\n",
        "\n"
      ]
    }
  ]
}